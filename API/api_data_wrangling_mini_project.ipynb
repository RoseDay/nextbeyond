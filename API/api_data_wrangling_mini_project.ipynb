{
 "cells": [
  {
   "cell_type": "markdown",
   "metadata": {},
   "source": [
    "This exercise will require you to pull some data from the Qunadl API. Qaundl is currently the most widely used aggregator of financial market data."
   ]
  },
  {
   "cell_type": "markdown",
   "metadata": {},
   "source": [
    "As a first step, you will need to register a free account on the http://www.quandl.com website."
   ]
  },
  {
   "cell_type": "markdown",
   "metadata": {},
   "source": [
    "After you register, you will be provided with a unique API key, that you should store:"
   ]
  },
  {
   "cell_type": "code",
   "execution_count": 1,
   "metadata": {},
   "outputs": [],
   "source": [
    "# Store the API key as a string - according to PEP8, constants are always named in all upper case\n",
    "API_KEY = "
   ]
  },
  {
   "cell_type": "markdown",
   "metadata": {},
   "source": [
    "Qaundl has a large number of data sources, but, unfortunately, most of them require a Premium subscription. Still, there are also a good number of free datasets."
   ]
  },
  {
   "cell_type": "markdown",
   "metadata": {},
   "source": [
    "For this mini project, we will focus on equities data from the Frankfurt Stock Exhange (FSE), which is available for free. We'll try and analyze the stock prices of a company called Carl Zeiss Meditec, which manufactures tools for eye examinations, as well as medical lasers for laser eye surgery: https://www.zeiss.com/meditec/int/home.html. The company is listed under the stock ticker AFX_X."
   ]
  },
  {
   "cell_type": "markdown",
   "metadata": {},
   "source": [
    "You can find the detailed Quandl API instructions here: https://docs.quandl.com/docs/time-series"
   ]
  },
  {
   "cell_type": "markdown",
   "metadata": {},
   "source": [
    "While there is a dedicated Python package for connecting to the Quandl API, we would prefer that you use the *requests* package, which can be easily downloaded using *pip* or *conda*. You can find the documentation for the package here: http://docs.python-requests.org/en/master/ "
   ]
  },
  {
   "cell_type": "markdown",
   "metadata": {},
   "source": [
    "Finally, apart from the *requests* package, you are encouraged to not use any third party Python packages, such as *pandas*, and instead focus on what's available in the Python Standard Library (the *collections* module might come in handy: https://pymotw.com/3/collections/ ).\n",
    "Also, since you won't have access to DataFrames, you are encouraged to us Python's native data structures - preferably dictionaries, though some questions can also be answered using lists.\n",
    "You can read more on these data structures here: https://docs.python.org/3/tutorial/datastructures.html"
   ]
  },
  {
   "cell_type": "markdown",
   "metadata": {},
   "source": [
    "Keep in mind that the JSON responses you will be getting from the API map almost one-to-one to Python's dictionaries. Unfortunately, they can be very nested, so make sure you read up on indexing dictionaries in the documentation provided above."
   ]
  },
  {
   "cell_type": "code",
   "execution_count": 14,
   "metadata": {},
   "outputs": [],
   "source": [
    "# First, import the relevant modules\n",
    "import requests\n"
   ]
  },
  {
   "cell_type": "code",
   "execution_count": 15,
   "metadata": {},
   "outputs": [],
   "source": [
    "# Now, call the Quandl API and pull out a small sample of the data (only one day) to get a glimpse\n",
    "# into the JSON structure that will be returned\n",
    "r_aday= requests.get(\"https://www.quandl.com/api/v3/datasets/FSE/AFX_X.json?start_date=2017-05-22&end_date=2017-05-22&api_key=EjbndxnxNAqEGMuTSyy6\")"
   ]
  },
  {
   "cell_type": "code",
   "execution_count": 16,
   "metadata": {},
   "outputs": [
    {
     "name": "stdout",
     "output_type": "stream",
     "text": [
      "{'dataset': {'id': 10095370, 'dataset_code': 'AFX_X', 'database_code': 'FSE', 'name': 'Carl Zeiss Meditec (AFX_X)', 'description': 'Stock Prices for Carl Zeiss Meditec (AFX) from the Frankfurt Stock Exchange.<br><br>Trading System: Xetra<br><br>ISIN: DE0005313704', 'refreshed_at': '2019-06-13T22:30:24.312Z', 'newest_available_date': '2019-06-13', 'oldest_available_date': '2000-06-07', 'column_names': ['Date', 'Open', 'High', 'Low', 'Close', 'Change', 'Traded Volume', 'Turnover', 'Last Price of the Day', 'Daily Traded Units', 'Daily Turnover'], 'frequency': 'daily', 'type': 'Time Series', 'premium': False, 'limit': None, 'transform': None, 'column_index': None, 'start_date': '2017-05-22', 'end_date': '2017-05-22', 'data': [['2017-05-22', 44.16, 44.22, 43.44, 43.84, None, 70856.0, 3103013.0, None, None, None]], 'collapse': None, 'order': None, 'database_id': 6129}}\n"
     ]
    }
   ],
   "source": [
    "# Inspect the JSON structure of the object you created, and take note of how nested it is,\n",
    "# as well as the overall structure\n",
    "print(r_aday.json())"
   ]
  },
  {
   "cell_type": "markdown",
   "metadata": {},
   "source": [
    "These are your tasks for this mini project:\n",
    "\n",
    "1. Collect data from the Franfurt Stock Exchange, for the ticker AFX_X, for the whole year 2017 (keep in mind that the date format is YYYY-MM-DD).\n",
    "2. Convert the returned JSON object into a Python dictionary.\n",
    "3. Calculate what the highest and lowest opening prices were for the stock in this period.\n",
    "4. What was the largest change in any one day (based on High and Low price)?\n",
    "5. What was the largest change between any two days (based on Closing Price)?\n",
    "6. What was the average daily trading volume during this year?\n",
    "7. (Optional) What was the median trading volume during this year. (Note: you may need to implement your own function for calculating the median.)"
   ]
  },
  {
   "cell_type": "code",
   "execution_count": 17,
   "metadata": {},
   "outputs": [],
   "source": [
    "#call AP! for year 2017\n",
    "r_ayear= requests.get(\"https://www.quandl.com/api/v3/datasets/FSE/AFX_X.json?start_date=2017-01-01&end_date=2017-12-31&api_key=EjbndxnxNAqEGMuTSyy6\")"
   ]
  },
  {
   "cell_type": "code",
   "execution_count": 18,
   "metadata": {},
   "outputs": [],
   "source": [
    "import json"
   ]
  },
  {
   "cell_type": "code",
   "execution_count": 19,
   "metadata": {},
   "outputs": [],
   "source": [
    "#convert json to python\n",
    "ayear=r_ayear.json()"
   ]
  },
  {
   "cell_type": "code",
   "execution_count": 20,
   "metadata": {},
   "outputs": [
    {
     "name": "stdout",
     "output_type": "stream",
     "text": [
      "<class 'dict'>\n"
     ]
    }
   ],
   "source": [
    "#check type\n",
    "print(type(ayear))"
   ]
  },
  {
   "cell_type": "code",
   "execution_count": 21,
   "metadata": {},
   "outputs": [
    {
     "name": "stdout",
     "output_type": "stream",
     "text": [
      "dict_keys(['id', 'dataset_code', 'database_code', 'name', 'description', 'refreshed_at', 'newest_available_date', 'oldest_available_date', 'column_names', 'frequency', 'type', 'premium', 'limit', 'transform', 'column_index', 'start_date', 'end_date', 'data', 'collapse', 'order', 'database_id'])\n"
     ]
    }
   ],
   "source": [
    "#see keys in 'dataset' level\n",
    "print(ayear['dataset'].keys())"
   ]
  },
  {
   "cell_type": "code",
   "execution_count": 22,
   "metadata": {},
   "outputs": [
    {
     "name": "stdout",
     "output_type": "stream",
     "text": [
      "['Date', 'Open', 'High', 'Low', 'Close', 'Change', 'Traded Volume', 'Turnover', 'Last Price of the Day', 'Daily Traded Units', 'Daily Turnover']\n"
     ]
    }
   ],
   "source": [
    "#see list of column names for data\n",
    "print(ayear['dataset']['column_names'])"
   ]
  },
  {
   "cell_type": "code",
   "execution_count": 23,
   "metadata": {},
   "outputs": [
    {
     "name": "stdout",
     "output_type": "stream",
     "text": [
      "51.76\n"
     ]
    }
   ],
   "source": [
    "#check opening price for first row date\n",
    "print(ayear['dataset']['data'][0][1])"
   ]
  },
  {
   "cell_type": "code",
   "execution_count": 24,
   "metadata": {},
   "outputs": [],
   "source": [
    "#assign short name for 'data' list\n",
    "dd = ayear['dataset']['data']"
   ]
  },
  {
   "cell_type": "code",
   "execution_count": 26,
   "metadata": {},
   "outputs": [
    {
     "name": "stdout",
     "output_type": "stream",
     "text": [
      "<class 'list'>\n"
     ]
    }
   ],
   "source": [
    "#check type\n",
    "print(type(dd))"
   ]
  },
  {
   "cell_type": "code",
   "execution_count": 27,
   "metadata": {},
   "outputs": [],
   "source": [
    "#prep for #3 create list opening prices\n",
    "opening = []\n",
    "for sublist in dd:\n",
    "    open_price = sublist[1]\n",
    "    opening.append(open_price)\n"
   ]
  },
  {
   "cell_type": "code",
   "execution_count": 28,
   "metadata": {},
   "outputs": [
    {
     "name": "stdout",
     "output_type": "stream",
     "text": [
      "[51.76, 51.65, 51.45, 51.05, 51.16, 51.88, 52.73, 52.37, 52.7, 53.11, 52.64, 52.29, 52.28, 51.5, 50.89, 50.8, 51.21, 49.5, 49.52, 48.64, 49.64, 49.09, 49.13, 49.11, 48.8, 48.4, 47.25, 46.57, 47.03, 47.09, 47.98, 48.4, 48.38, 47.3, 47.65, 46.42, 46.16, 45.81, 45.0, 45.88, 46.29, 46.53, 45.48, 45.2, 45.01, 45.16, 44.9, 45.08, 45.72, 46.01, 45.8, 45.61, 45.5, 45.58, 45.97, 45.64, 46.2, 46.19, 46.01, 45.36, 44.51, 43.58, 42.0, 42.35, 42.3, 42.3, 41.48, 42.29, 42.54, 42.65, 42.5, 42.29, 42.35, 42.49, 43.21, 42.81, 42.7, 43.0, 42.66, 43.0, 42.38, 42.16, 42.0, 42.0, 41.71, 42.11, 42.64, 42.72, 42.82, 42.46, 42.42, 42.28, 41.88, 42.4, 42.53, 42.12, 41.3, 41.73, 43.5, 44.9, 45.85, 45.13, 45.34, 45.25, 45.24, 44.94, 45.26, 45.16, 44.91, 44.7, 45.31, 45.57, 45.74, 45.06, 45.5, 45.6, 45.07, 44.67, 44.29, 44.94, 44.64, 44.79, 45.5, 44.67, 45.83, 45.29, 45.01, 45.73, 46.68, 47.23, 46.95, 47.29, 47.03, 47.46, 46.48, 46.9, 45.66, 46.34, 46.52, 46.5, 47.31, 46.77, 47.8, 47.01, 47.12, 46.8, 46.12, 45.22, 45.05, 45.61, 44.8, 44.8, 43.92, 43.67, 44.16, 43.74, 44.0, 45.06, 45.15, 45.09, 45.18, 43.4, 43.5, 41.83, 43.0, 42.52, 41.86, 42.2, 41.89, None, 42.17, 41.51, 41.88, 41.93, 42.01, 41.97, 42.5, 41.94, 42.24, None, None, 42.06, 42.02, 41.62, 41.46, 40.9, 40.96, 41.1, 39.5, 40.15, 39.77, 40.02, 39.39, 38.95, 38.73, 38.94, 39.01, 38.25, 41.8, 41.26, 41.47, 41.4, 41.4, 41.2, 41.4, 41.53, 41.61, 41.13, 41.5, 41.25, 41.12, 41.38, 41.19, 40.38, 39.75, 39.77, 39.72, 39.6, 38.85, 39.25, 38.8, 38.8, 38.5, 38.81, 37.37, 36.65, 36.2, 35.98, 35.56, 36.06, 36.02, 35.95, 34.75, 35.24, 35.38, 34.83, 35.07, 34.42, 34.0, 34.04, 34.54, 35.04, 35.04, 35.06, 34.85, 34.98, 35.38, 34.95, 34.8, 35.29, 34.91, 35.02, 35.48, 35.9, 34.99]\n"
     ]
    }
   ],
   "source": [
    "#show list of opening prices\n",
    "print(opening)"
   ]
  },
  {
   "cell_type": "code",
   "execution_count": 29,
   "metadata": {},
   "outputs": [],
   "source": [
    "#filter the Nones\n",
    "clean_opening = filter(None, opening)"
   ]
  },
  {
   "cell_type": "code",
   "execution_count": 30,
   "metadata": {},
   "outputs": [
    {
     "name": "stdout",
     "output_type": "stream",
     "text": [
      "53.11\n"
     ]
    }
   ],
   "source": [
    "#Highest opening price\n",
    "print(max(clean_opening))"
   ]
  },
  {
   "cell_type": "code",
   "execution_count": 31,
   "metadata": {},
   "outputs": [],
   "source": [
    "#filter the Nones\n",
    "clean_low = filter(None, opening)"
   ]
  },
  {
   "cell_type": "code",
   "execution_count": 32,
   "metadata": {},
   "outputs": [
    {
     "name": "stdout",
     "output_type": "stream",
     "text": [
      "34.0\n"
     ]
    }
   ],
   "source": [
    "#Lowest opening price\n",
    "print(min(clean_low))"
   ]
  },
  {
   "cell_type": "code",
   "execution_count": 53,
   "metadata": {},
   "outputs": [],
   "source": [
    "#4 list comp try: print([(sublist[2] – sublist[3]) for sublist in bb])"
   ]
  },
  {
   "cell_type": "code",
   "execution_count": 34,
   "metadata": {},
   "outputs": [],
   "source": [
    "#daily change from open (dd[2]) to close (dd[3]) price\n",
    "changes = []\n",
    "for sublist in dd:\n",
    "    changes.append(sublist[2]-sublist[3])"
   ]
  },
  {
   "cell_type": "code",
   "execution_count": 35,
   "metadata": {},
   "outputs": [
    {
     "name": "stdout",
     "output_type": "stream",
     "text": [
      "[0.4899999999999949, 0.39000000000000057, 1.1300000000000026, 0.5799999999999983, 0.6200000000000045, 0.8399999999999963, 1.6599999999999966, 1.1400000000000006, 1.0600000000000023, 1.3900000000000006, 0.8700000000000045, 1.2800000000000011, 1.1900000000000048, 1.5499999999999972, 0.6599999999999966, 0.7199999999999989, 0.980000000000004, 1.7299999999999969, 1.3200000000000003, 1.5600000000000023, 0.9399999999999977, 0.8599999999999994, 0.769999999999996, 0.5399999999999991, 1.009999999999998, 1.2199999999999989, 1.8100000000000023, 0.8400000000000034, 0.3500000000000014, 0.6799999999999997, 1.259999999999998, 1.0599999999999952, 0.8500000000000014, 1.730000000000004, 0.9699999999999989, 1.2999999999999972, 0.4899999999999949, 0.3300000000000054, 1.2100000000000009, 0.8800000000000026, 0.5799999999999983, 1.0399999999999991, 0.9600000000000009, 0.5, 0.35999999999999943, 0.5200000000000031, 0.45000000000000284, 0.5800000000000054, 1.0600000000000023, 0.5900000000000034, 0.6900000000000048, 0.45000000000000284, 0.3300000000000054, 0.4099999999999966, 0.7199999999999989, 0.46999999999999886, 0.6000000000000014, 0.5, 0.46000000000000085, 0.9500000000000028, 0.7999999999999972, 0.8700000000000045, 1.5600000000000023, 0.7100000000000009, 0.46000000000000085, 0.3399999999999963, 0.9000000000000057, 0.8999999999999986, 0.5499999999999972, 0.519999999999996, 0.4000000000000057, 0.5600000000000023, 0.44999999999999574, 0.46999999999999886, 0.720000000000006, 0.3299999999999983, 0.18999999999999773, 0.3500000000000014, 0.36999999999999744, 0.6400000000000006, 0.7999999999999972, 0.990000000000002, 0.9600000000000009, 0.7100000000000009, 0.6499999999999986, 0.39000000000000057, 0.5900000000000034, 0.4199999999999946, 0.5700000000000003, 0.5600000000000023, 0.5599999999999952, 0.5900000000000034, 1.25, 0.6400000000000006, 0.3299999999999983, 0.6799999999999997, 0.9799999999999969, 0.8500000000000014, 1.8599999999999994, 0.9400000000000048, 2.3200000000000003, 0.7700000000000031, 0.6300000000000026, 0.8700000000000045, 0.4399999999999977, 0.8100000000000023, 0.5399999999999991, 0.30000000000000426, 0.8699999999999974, 0.4099999999999966, 0.8200000000000003, 0.8400000000000034, 0.730000000000004, 0.7800000000000011, 0.8499999999999943, 0.9399999999999977, 0.730000000000004, 0.509999999999998, 1.1599999999999966, 0.8599999999999994, 0.6700000000000017, 0.5399999999999991, 1.3500000000000014, 0.9200000000000017, 1.0899999999999963, 0.769999999999996, 0.740000000000002, 0.7000000000000028, 1.2700000000000031, 0.9399999999999977, 0.720000000000006, 0.6099999999999994, 0.6499999999999986, 0.9499999999999957, 1.1599999999999966, 0.6499999999999986, 1.1400000000000006, 1.1300000000000026, 0.8100000000000023, 0.4799999999999969, 1.5399999999999991, 0.8900000000000006, 1.529999999999994, 0.4200000000000017, 1.240000000000002, 0.2700000000000031, 0.6300000000000026, 1.0399999999999991, 0.970000000000006, 0.36999999999999744, 0.6499999999999986, 0.5799999999999983, 0.75, 0.5800000000000054, 0.7800000000000011, 0.37999999999999545, 1.009999999999998, 1.3300000000000054, 0.7999999999999972, 1.4699999999999989, 1.0200000000000031, 2.8100000000000023, 1.0700000000000003, 1.7299999999999969, 0.9600000000000009, 0.529999999999994, 0.7899999999999991, 0.509999999999998, 0.46999999999999886, 0.5899999999999963, 0.5900000000000034, 0.730000000000004, 0.5399999999999991, 0.5200000000000031, 0.7900000000000063, 1.1300000000000026, 1.1199999999999974, 0.6700000000000017, 0.8599999999999994, 0.49499999999999744, 0.49499999999999744, 0.4899999999999949, 0.6099999999999994, 0.5, 0.36999999999999744, 0.5799999999999983, 0.4200000000000017, 0.5500000000000043, 1.4000000000000057, 0.6099999999999994, 0.6499999999999986, 0.7199999999999989, 0.9600000000000009, 0.5600000000000023, 0.5700000000000003, 0.4200000000000017, 0.6199999999999974, 1.490000000000002, 0.8599999999999994, 0.9100000000000037, 0.4300000000000068, 0.4799999999999969, 0.5900000000000034, 0.29999999999999716, 0.38000000000000256, 0.37000000000000455, 0.45000000000000284, 0.759999999999998, 0.5499999999999972, 0.5899999999999963, 0.37999999999999545, 0.6300000000000026, 0.6700000000000017, 0.5700000000000003, 0.8900000000000006, 1.230000000000004, 0.5999999999999943, 0.4799999999999969, 0.7199999999999989, 0.4399999999999977, 0.5500000000000043, 0.9500000000000028, 0.5300000000000011, 0.8599999999999994, 2.009999999999998, 0.9299999999999997, 0.4799999999999969, 0.29999999999999716, 0.6899999999999977, 0.5499999999999972, 0.47000000000000597, 0.5, 1.25, 0.6799999999999997, 0.6400000000000006, 0.6199999999999974, 0.7800000000000011, 0.8299999999999983, 0.5, 0.5, 0.5400000000000063, 0.6199999999999974, 0.7100000000000009, 0.3999999999999986, 0.6799999999999997, 0.37999999999999545, 1.0700000000000003, 1.1599999999999966, 0.519999999999996, 0.9200000000000017, 0.30000000000000426, 0.47000000000000597, 0.759999999999998, 0.5899999999999963, 0.9499999999999957]\n"
     ]
    }
   ],
   "source": [
    "print(changes)"
   ]
  },
  {
   "cell_type": "code",
   "execution_count": 45,
   "metadata": {},
   "outputs": [
    {
     "name": "stdout",
     "output_type": "stream",
     "text": [
      "2.8100000000000023\n"
     ]
    }
   ],
   "source": [
    "#largest change in one day\n",
    "print(max(changes))"
   ]
  },
  {
   "cell_type": "code",
   "execution_count": 38,
   "metadata": {},
   "outputs": [],
   "source": [
    "#5 closing prices (dd[4]) in 2017\n",
    "closing = []\n",
    "for sublist in dd:\n",
    "    close_price = sublist[4]\n",
    "    closing.append(close_price)"
   ]
  },
  {
   "cell_type": "code",
   "execution_count": 39,
   "metadata": {},
   "outputs": [
    {
     "name": "stdout",
     "output_type": "stream",
     "text": [
      "255\n"
     ]
    }
   ],
   "source": [
    "print(len(closing))"
   ]
  },
  {
   "cell_type": "code",
   "execution_count": 50,
   "metadata": {},
   "outputs": [
    {
     "name": "stdout",
     "output_type": "stream",
     "text": [
      "255\n"
     ]
    }
   ],
   "source": [
    "print(len(dd))"
   ]
  },
  {
   "cell_type": "code",
   "execution_count": 51,
   "metadata": {},
   "outputs": [],
   "source": [
    "#change closing prices btw two consecutive days\n",
    "btw_days = []\n",
    "for i, item in enumerate(dd):\n",
    "    if i+1 < 255:\n",
    "        prev_item = dd[i][4]\n",
    "        next_item = dd[i+1][4]\n",
    "        btw_days.append(next_item - prev_item)"
   ]
  },
  {
   "cell_type": "code",
   "execution_count": 47,
   "metadata": {},
   "outputs": [],
   "source": [
    "#list comp try: deltas = (next_item - prev_item) for [i+1][4] - [i][4] in dd while [i=1] <= 255"
   ]
  },
  {
   "cell_type": "code",
   "execution_count": 52,
   "metadata": {},
   "outputs": [
    {
     "name": "stdout",
     "output_type": "stream",
     "text": [
      "2.559999999999995\n"
     ]
    }
   ],
   "source": [
    "#max (btw_days) change between 2 days\n",
    "print(max(btw_days))"
   ]
  },
  {
   "cell_type": "code",
   "execution_count": 8,
   "metadata": {},
   "outputs": [],
   "source": [
    "#6 Average volume (dd[6]) in 2017"
   ]
  },
  {
   "cell_type": "code",
   "execution_count": 42,
   "metadata": {},
   "outputs": [],
   "source": [
    "#average daily trading volume \n",
    "volumes = []\n",
    "for sublist in dd: \n",
    "    volume = sublist[6]\n",
    "    volumes.append(volume)"
   ]
  },
  {
   "cell_type": "code",
   "execution_count": 44,
   "metadata": {},
   "outputs": [
    {
     "data": {
      "text/plain": [
       "89124.33725490196"
      ]
     },
     "execution_count": 44,
     "metadata": {},
     "output_type": "execute_result"
    }
   ],
   "source": [
    "#daily average volume\n",
    "average = sum(volumes)/len(volumes)\n",
    "average"
   ]
  }
 ],
 "metadata": {
  "kernelspec": {
   "display_name": "Python 3",
   "language": "python",
   "name": "python3"
  },
  "language_info": {
   "codemirror_mode": {
    "name": "ipython",
    "version": 3
   },
   "file_extension": ".py",
   "mimetype": "text/x-python",
   "name": "python",
   "nbconvert_exporter": "python",
   "pygments_lexer": "ipython3",
   "version": "3.7.1"
  }
 },
 "nbformat": 4,
 "nbformat_minor": 2
}
