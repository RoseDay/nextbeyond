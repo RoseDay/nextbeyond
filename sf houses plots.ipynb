{
 "cells": [
  {
   "cell_type": "code",
   "execution_count": 1,
   "metadata": {},
   "outputs": [],
   "source": [
    "import pandas as pd"
   ]
  },
  {
   "cell_type": "code",
   "execution_count": 2,
   "metadata": {},
   "outputs": [],
   "source": [
    "housing = pd.read_csv('ahs2017n.csv')"
   ]
  },
  {
   "cell_type": "code",
   "execution_count": 3,
   "metadata": {},
   "outputs": [],
   "source": [
    "housing['YRBUILT']=housing['YRBUILT'].replace(1919, 1910)"
   ]
  },
  {
   "cell_type": "code",
   "execution_count": 5,
   "metadata": {},
   "outputs": [],
   "source": [
    "#removing quotes from ordinal unit square footage increments\n",
    "housing['UNITSIZE'] = housing['UNITSIZE'].str.replace(\"'\", '')\n",
    "\n"
   ]
  },
  {
   "cell_type": "code",
   "execution_count": 6,
   "metadata": {},
   "outputs": [],
   "source": [
    "#change ordinal string of UNITSIZE to integer \n",
    "housing['UNITSIZE'] = housing['UNITSIZE'].astype(int)"
   ]
  },
  {
   "cell_type": "code",
   "execution_count": 7,
   "metadata": {},
   "outputs": [
    {
     "data": {
      "text/html": [
       "<div>\n",
       "<style scoped>\n",
       "    .dataframe tbody tr th:only-of-type {\n",
       "        vertical-align: middle;\n",
       "    }\n",
       "\n",
       "    .dataframe tbody tr th {\n",
       "        vertical-align: top;\n",
       "    }\n",
       "\n",
       "    .dataframe thead th {\n",
       "        text-align: right;\n",
       "    }\n",
       "</style>\n",
       "<table border=\"1\" class=\"dataframe\">\n",
       "  <thead>\n",
       "    <tr style=\"text-align: right;\">\n",
       "      <th></th>\n",
       "      <th>UNITSIZE</th>\n",
       "    </tr>\n",
       "  </thead>\n",
       "  <tbody>\n",
       "    <tr>\n",
       "      <th>0</th>\n",
       "      <td>6</td>\n",
       "    </tr>\n",
       "    <tr>\n",
       "      <th>1</th>\n",
       "      <td>8</td>\n",
       "    </tr>\n",
       "    <tr>\n",
       "      <th>2</th>\n",
       "      <td>6</td>\n",
       "    </tr>\n",
       "    <tr>\n",
       "      <th>3</th>\n",
       "      <td>4</td>\n",
       "    </tr>\n",
       "    <tr>\n",
       "      <th>4</th>\n",
       "      <td>7</td>\n",
       "    </tr>\n",
       "  </tbody>\n",
       "</table>\n",
       "</div>"
      ],
      "text/plain": [
       "   UNITSIZE\n",
       "0         6\n",
       "1         8\n",
       "2         6\n",
       "3         4\n",
       "4         7"
      ]
     },
     "execution_count": 7,
     "metadata": {},
     "output_type": "execute_result"
    }
   ],
   "source": [
    "housing[['UNITSIZE']].head()"
   ]
  },
  {
   "cell_type": "code",
   "execution_count": 8,
   "metadata": {},
   "outputs": [
    {
     "name": "stdout",
     "output_type": "stream",
     "text": [
      "<class 'pandas.core.frame.DataFrame'>\n",
      "RangeIndex: 66752 entries, 0 to 66751\n",
      "Data columns (total 1 columns):\n",
      "UNITSIZE    66752 non-null int32\n",
      "dtypes: int32(1)\n",
      "memory usage: 260.8 KB\n"
     ]
    }
   ],
   "source": [
    "housing[['UNITSIZE']].info()"
   ]
  },
  {
   "cell_type": "code",
   "execution_count": 9,
   "metadata": {},
   "outputs": [],
   "source": [
    "#removing quotes from original DF housing\n",
    "housing['BATHROOMS'] = housing['BATHROOMS'].str.replace(\"'\", '')"
   ]
  },
  {
   "cell_type": "code",
   "execution_count": 10,
   "metadata": {},
   "outputs": [],
   "source": [
    "#change ordinal string of BATHROOMS to integer\n",
    "housing['BATHROOMS'] = housing['BATHROOMS'].astype(int)"
   ]
  },
  {
   "cell_type": "code",
   "execution_count": 11,
   "metadata": {},
   "outputs": [
    {
     "data": {
      "text/html": [
       "<div>\n",
       "<style scoped>\n",
       "    .dataframe tbody tr th:only-of-type {\n",
       "        vertical-align: middle;\n",
       "    }\n",
       "\n",
       "    .dataframe tbody tr th {\n",
       "        vertical-align: top;\n",
       "    }\n",
       "\n",
       "    .dataframe thead th {\n",
       "        text-align: right;\n",
       "    }\n",
       "</style>\n",
       "<table border=\"1\" class=\"dataframe\">\n",
       "  <thead>\n",
       "    <tr style=\"text-align: right;\">\n",
       "      <th></th>\n",
       "      <th>BATHROOMS</th>\n",
       "    </tr>\n",
       "  </thead>\n",
       "  <tbody>\n",
       "    <tr>\n",
       "      <th>0</th>\n",
       "      <td>4</td>\n",
       "    </tr>\n",
       "    <tr>\n",
       "      <th>1</th>\n",
       "      <td>4</td>\n",
       "    </tr>\n",
       "    <tr>\n",
       "      <th>2</th>\n",
       "      <td>5</td>\n",
       "    </tr>\n",
       "    <tr>\n",
       "      <th>3</th>\n",
       "      <td>3</td>\n",
       "    </tr>\n",
       "    <tr>\n",
       "      <th>4</th>\n",
       "      <td>4</td>\n",
       "    </tr>\n",
       "  </tbody>\n",
       "</table>\n",
       "</div>"
      ],
      "text/plain": [
       "   BATHROOMS\n",
       "0          4\n",
       "1          4\n",
       "2          5\n",
       "3          3\n",
       "4          4"
      ]
     },
     "execution_count": 11,
     "metadata": {},
     "output_type": "execute_result"
    }
   ],
   "source": [
    "#checking change\n",
    "housing[['BATHROOMS']].head()"
   ]
  },
  {
   "cell_type": "code",
   "execution_count": 12,
   "metadata": {},
   "outputs": [],
   "source": [
    "#replacing 7-13 codes with 0, no complete bathroom\n",
    "housing['BATHROOMS']=housing['BATHROOMS'].replace([7,8,9,10,11,12,13], 0)"
   ]
  },
  {
   "cell_type": "code",
   "execution_count": 133,
   "metadata": {},
   "outputs": [],
   "source": [
    "#change ordinal string of DINING to integer\n",
    "housing['DINING'] = housing['DINING'].astype(int)"
   ]
  },
  {
   "cell_type": "code",
   "execution_count": 135,
   "metadata": {},
   "outputs": [],
   "source": [
    "#assign selection of columns (variables) of interest\n",
    "houses= housing[['BLD', 'CONTROL', 'DIVISION', 'OMB13CBSA', 'TENURE', 'YRBUILT', 'UNITSIZE', 'TOTROOMS', 'UNITFLOORS','BEDROOMS','BATHROOMS','DINING','FIREPLACE', 'GARAGE']]\n"
   ]
  },
  {
   "cell_type": "code",
   "execution_count": 14,
   "metadata": {},
   "outputs": [
    {
     "name": "stdout",
     "output_type": "stream",
     "text": [
      "    BLD     CONTROL DIVISION OMB13CBSA TENURE  YRBUILT  UNITSIZE  TOTROOMS  \\\n",
      "0  '02'  '11000001'      '5'   '37980'    '1'     2000         6         8   \n",
      "1  '03'  '11000002'      '1'   '99998'    '1'     1970         8         7   \n",
      "2  '02'  '11000005'      '7'   '99998'    '1'     1970         6         8   \n",
      "3  '02'  '11000006'      '7'   '99998'    '1'     1980         4         5   \n",
      "4  '02'  '11000007'      '5'   '37980'    '1'     1960         7         8   \n",
      "\n",
      "   UNITFLOORS  BEDROOMS  BATHROOMS  DINING FIREPLACE GARAGE  \n",
      "0           2         3          4       1       '1'    '1'  \n",
      "1           2         3          4       1       '2'    '1'  \n",
      "2           1         4          5       1       '2'    '1'  \n",
      "3           1         3          3       0       '2'    '1'  \n",
      "4           3         4          4       1       '2'    '1'  \n"
     ]
    }
   ],
   "source": [
    "print(houses.head())"
   ]
  },
  {
   "cell_type": "code",
   "execution_count": 15,
   "metadata": {},
   "outputs": [
    {
     "name": "stdout",
     "output_type": "stream",
     "text": [
      "<class 'pandas.core.frame.DataFrame'>\n"
     ]
    }
   ],
   "source": [
    "print(type(houses))"
   ]
  },
  {
   "cell_type": "code",
   "execution_count": 16,
   "metadata": {},
   "outputs": [
    {
     "name": "stdout",
     "output_type": "stream",
     "text": [
      "<class 'pandas.core.frame.DataFrame'>\n",
      "RangeIndex: 66752 entries, 0 to 66751\n",
      "Data columns (total 1 columns):\n",
      "UNITSIZE    66752 non-null int32\n",
      "dtypes: int32(1)\n",
      "memory usage: 260.8 KB\n"
     ]
    }
   ],
   "source": [
    "houses[['UNITSIZE']].info()"
   ]
  },
  {
   "cell_type": "code",
   "execution_count": 18,
   "metadata": {},
   "outputs": [
    {
     "data": {
      "text/plain": [
       "9"
      ]
     },
     "execution_count": 18,
     "metadata": {},
     "output_type": "execute_result"
    }
   ],
   "source": [
    "houses.UNITSIZE.max()"
   ]
  },
  {
   "cell_type": "code",
   "execution_count": 20,
   "metadata": {},
   "outputs": [
    {
     "data": {
      "text/plain": [
       "-9"
      ]
     },
     "execution_count": 20,
     "metadata": {},
     "output_type": "execute_result"
    }
   ],
   "source": [
    "#checking for no reports i.e. \"-9\"\n",
    "houses.UNITSIZE.min()"
   ]
  },
  {
   "cell_type": "code",
   "execution_count": 21,
   "metadata": {},
   "outputs": [
    {
     "data": {
      "text/plain": [
       "0      True\n",
       "1      True\n",
       "2      True\n",
       "3      True\n",
       "4      True\n",
       "5     False\n",
       "6      True\n",
       "7      True\n",
       "8     False\n",
       "9      True\n",
       "10     True\n",
       "11     True\n",
       "12     True\n",
       "13    False\n",
       "14    False\n",
       "15    False\n",
       "16     True\n",
       "17     True\n",
       "18     True\n",
       "19    False\n",
       "Name: BLD, dtype: bool"
      ]
     },
     "execution_count": 21,
     "metadata": {},
     "output_type": "execute_result"
    }
   ],
   "source": [
    "#Boolean to filter single family house values \n",
    "bld_sf = [\"'02'\", \"'03'\"]\n",
    "houses.BLD.isin(bld_sf).head(20)"
   ]
  },
  {
   "cell_type": "code",
   "execution_count": 136,
   "metadata": {},
   "outputs": [
    {
     "data": {
      "text/plain": [
       "(43910, 14)"
      ]
     },
     "execution_count": 136,
     "metadata": {},
     "output_type": "execute_result"
    }
   ],
   "source": [
    "#checking rows and columns\n",
    "sfh = houses[houses.BLD.isin(bld_sf)]\n",
    "sfh.shape"
   ]
  },
  {
   "cell_type": "code",
   "execution_count": 23,
   "metadata": {},
   "outputs": [],
   "source": [
    "#import plotting library\n",
    "import matplotlib\n",
    "import matplotlib.pyplot as plt\n",
    "import numpy as np"
   ]
  },
  {
   "cell_type": "code",
   "execution_count": 137,
   "metadata": {},
   "outputs": [
    {
     "data": {
      "text/html": [
       "<div>\n",
       "<style scoped>\n",
       "    .dataframe tbody tr th:only-of-type {\n",
       "        vertical-align: middle;\n",
       "    }\n",
       "\n",
       "    .dataframe tbody tr th {\n",
       "        vertical-align: top;\n",
       "    }\n",
       "\n",
       "    .dataframe thead th {\n",
       "        text-align: right;\n",
       "    }\n",
       "</style>\n",
       "<table border=\"1\" class=\"dataframe\">\n",
       "  <thead>\n",
       "    <tr style=\"text-align: right;\">\n",
       "      <th></th>\n",
       "      <th>BLD</th>\n",
       "      <th>CONTROL</th>\n",
       "      <th>OMB13CBSA</th>\n",
       "      <th>TENURE</th>\n",
       "      <th>YRBUILT</th>\n",
       "      <th>UNITSIZE</th>\n",
       "      <th>TOTROOMS</th>\n",
       "      <th>UNITFLOORS</th>\n",
       "      <th>BEDROOMS</th>\n",
       "      <th>BATHROOMS</th>\n",
       "      <th>DINING</th>\n",
       "      <th>FIREPLACE</th>\n",
       "      <th>GARAGE</th>\n",
       "    </tr>\n",
       "    <tr>\n",
       "      <th>DIVISION</th>\n",
       "      <th></th>\n",
       "      <th></th>\n",
       "      <th></th>\n",
       "      <th></th>\n",
       "      <th></th>\n",
       "      <th></th>\n",
       "      <th></th>\n",
       "      <th></th>\n",
       "      <th></th>\n",
       "      <th></th>\n",
       "      <th></th>\n",
       "      <th></th>\n",
       "      <th></th>\n",
       "    </tr>\n",
       "  </thead>\n",
       "  <tbody>\n",
       "    <tr>\n",
       "      <th>'1'</th>\n",
       "      <td>2099</td>\n",
       "      <td>2099</td>\n",
       "      <td>2099</td>\n",
       "      <td>2099</td>\n",
       "      <td>2099</td>\n",
       "      <td>2099</td>\n",
       "      <td>2099</td>\n",
       "      <td>2099</td>\n",
       "      <td>2099</td>\n",
       "      <td>2099</td>\n",
       "      <td>2099</td>\n",
       "      <td>2099</td>\n",
       "      <td>2099</td>\n",
       "    </tr>\n",
       "    <tr>\n",
       "      <th>'2'</th>\n",
       "      <td>4088</td>\n",
       "      <td>4088</td>\n",
       "      <td>4088</td>\n",
       "      <td>4088</td>\n",
       "      <td>4088</td>\n",
       "      <td>4088</td>\n",
       "      <td>4088</td>\n",
       "      <td>4088</td>\n",
       "      <td>4088</td>\n",
       "      <td>4088</td>\n",
       "      <td>4088</td>\n",
       "      <td>4088</td>\n",
       "      <td>4088</td>\n",
       "    </tr>\n",
       "    <tr>\n",
       "      <th>'3'</th>\n",
       "      <td>6692</td>\n",
       "      <td>6692</td>\n",
       "      <td>6692</td>\n",
       "      <td>6692</td>\n",
       "      <td>6692</td>\n",
       "      <td>6692</td>\n",
       "      <td>6692</td>\n",
       "      <td>6692</td>\n",
       "      <td>6692</td>\n",
       "      <td>6692</td>\n",
       "      <td>6692</td>\n",
       "      <td>6692</td>\n",
       "      <td>6692</td>\n",
       "    </tr>\n",
       "    <tr>\n",
       "      <th>'4'</th>\n",
       "      <td>2174</td>\n",
       "      <td>2174</td>\n",
       "      <td>2174</td>\n",
       "      <td>2174</td>\n",
       "      <td>2174</td>\n",
       "      <td>2174</td>\n",
       "      <td>2174</td>\n",
       "      <td>2174</td>\n",
       "      <td>2174</td>\n",
       "      <td>2174</td>\n",
       "      <td>2174</td>\n",
       "      <td>2174</td>\n",
       "      <td>2174</td>\n",
       "    </tr>\n",
       "    <tr>\n",
       "      <th>'5'</th>\n",
       "      <td>9296</td>\n",
       "      <td>9296</td>\n",
       "      <td>9296</td>\n",
       "      <td>9296</td>\n",
       "      <td>9296</td>\n",
       "      <td>9296</td>\n",
       "      <td>9296</td>\n",
       "      <td>9296</td>\n",
       "      <td>9296</td>\n",
       "      <td>9296</td>\n",
       "      <td>9296</td>\n",
       "      <td>9296</td>\n",
       "      <td>9296</td>\n",
       "    </tr>\n",
       "    <tr>\n",
       "      <th>'6'</th>\n",
       "      <td>1857</td>\n",
       "      <td>1857</td>\n",
       "      <td>1857</td>\n",
       "      <td>1857</td>\n",
       "      <td>1857</td>\n",
       "      <td>1857</td>\n",
       "      <td>1857</td>\n",
       "      <td>1857</td>\n",
       "      <td>1857</td>\n",
       "      <td>1857</td>\n",
       "      <td>1857</td>\n",
       "      <td>1857</td>\n",
       "      <td>1857</td>\n",
       "    </tr>\n",
       "    <tr>\n",
       "      <th>'7'</th>\n",
       "      <td>5907</td>\n",
       "      <td>5907</td>\n",
       "      <td>5907</td>\n",
       "      <td>5907</td>\n",
       "      <td>5907</td>\n",
       "      <td>5907</td>\n",
       "      <td>5907</td>\n",
       "      <td>5907</td>\n",
       "      <td>5907</td>\n",
       "      <td>5907</td>\n",
       "      <td>5907</td>\n",
       "      <td>5907</td>\n",
       "      <td>5907</td>\n",
       "    </tr>\n",
       "    <tr>\n",
       "      <th>'8'</th>\n",
       "      <td>3281</td>\n",
       "      <td>3281</td>\n",
       "      <td>3281</td>\n",
       "      <td>3281</td>\n",
       "      <td>3281</td>\n",
       "      <td>3281</td>\n",
       "      <td>3281</td>\n",
       "      <td>3281</td>\n",
       "      <td>3281</td>\n",
       "      <td>3281</td>\n",
       "      <td>3281</td>\n",
       "      <td>3281</td>\n",
       "      <td>3281</td>\n",
       "    </tr>\n",
       "    <tr>\n",
       "      <th>'9'</th>\n",
       "      <td>8516</td>\n",
       "      <td>8516</td>\n",
       "      <td>8516</td>\n",
       "      <td>8516</td>\n",
       "      <td>8516</td>\n",
       "      <td>8516</td>\n",
       "      <td>8516</td>\n",
       "      <td>8516</td>\n",
       "      <td>8516</td>\n",
       "      <td>8516</td>\n",
       "      <td>8516</td>\n",
       "      <td>8516</td>\n",
       "      <td>8516</td>\n",
       "    </tr>\n",
       "  </tbody>\n",
       "</table>\n",
       "</div>"
      ],
      "text/plain": [
       "           BLD  CONTROL  OMB13CBSA  TENURE  YRBUILT  UNITSIZE  TOTROOMS  \\\n",
       "DIVISION                                                                  \n",
       "'1'       2099     2099       2099    2099     2099      2099      2099   \n",
       "'2'       4088     4088       4088    4088     4088      4088      4088   \n",
       "'3'       6692     6692       6692    6692     6692      6692      6692   \n",
       "'4'       2174     2174       2174    2174     2174      2174      2174   \n",
       "'5'       9296     9296       9296    9296     9296      9296      9296   \n",
       "'6'       1857     1857       1857    1857     1857      1857      1857   \n",
       "'7'       5907     5907       5907    5907     5907      5907      5907   \n",
       "'8'       3281     3281       3281    3281     3281      3281      3281   \n",
       "'9'       8516     8516       8516    8516     8516      8516      8516   \n",
       "\n",
       "          UNITFLOORS  BEDROOMS  BATHROOMS  DINING  FIREPLACE  GARAGE  \n",
       "DIVISION                                                              \n",
       "'1'             2099      2099       2099    2099       2099    2099  \n",
       "'2'             4088      4088       4088    4088       4088    4088  \n",
       "'3'             6692      6692       6692    6692       6692    6692  \n",
       "'4'             2174      2174       2174    2174       2174    2174  \n",
       "'5'             9296      9296       9296    9296       9296    9296  \n",
       "'6'             1857      1857       1857    1857       1857    1857  \n",
       "'7'             5907      5907       5907    5907       5907    5907  \n",
       "'8'             3281      3281       3281    3281       3281    3281  \n",
       "'9'             8516      8516       8516    8516       8516    8516  "
      ]
     },
     "execution_count": 137,
     "metadata": {},
     "output_type": "execute_result"
    }
   ],
   "source": [
    "#count variables by regions (by US Census Divisions)\n",
    "sfh.groupby('DIVISION').count()"
   ]
  },
  {
   "cell_type": "code",
   "execution_count": 138,
   "metadata": {},
   "outputs": [],
   "source": [
    "#assigning a name for regions table\n",
    "div_sf = sfh.groupby('DIVISION')"
   ]
  },
  {
   "cell_type": "code",
   "execution_count": 28,
   "metadata": {},
   "outputs": [
    {
     "name": "stdout",
     "output_type": "stream",
     "text": [
      "<class 'pandas.core.groupby.groupby.DataFrameGroupBy'>\n"
     ]
    }
   ],
   "source": [
    "print(type(div_sf))"
   ]
  },
  {
   "cell_type": "code",
   "execution_count": 139,
   "metadata": {},
   "outputs": [
    {
     "data": {
      "text/html": [
       "<div>\n",
       "<style scoped>\n",
       "    .dataframe tbody tr th:only-of-type {\n",
       "        vertical-align: middle;\n",
       "    }\n",
       "\n",
       "    .dataframe tbody tr th {\n",
       "        vertical-align: top;\n",
       "    }\n",
       "\n",
       "    .dataframe thead th {\n",
       "        text-align: right;\n",
       "    }\n",
       "</style>\n",
       "<table border=\"1\" class=\"dataframe\">\n",
       "  <thead>\n",
       "    <tr style=\"text-align: right;\">\n",
       "      <th></th>\n",
       "      <th>Region</th>\n",
       "      <th>Decade Built</th>\n",
       "    </tr>\n",
       "  </thead>\n",
       "  <tbody>\n",
       "    <tr>\n",
       "      <th>0</th>\n",
       "      <td>'1'</td>\n",
       "      <td>1960</td>\n",
       "    </tr>\n",
       "    <tr>\n",
       "      <th>1</th>\n",
       "      <td>'2'</td>\n",
       "      <td>1950</td>\n",
       "    </tr>\n",
       "    <tr>\n",
       "      <th>2</th>\n",
       "      <td>'3'</td>\n",
       "      <td>1960</td>\n",
       "    </tr>\n",
       "    <tr>\n",
       "      <th>3</th>\n",
       "      <td>'4'</td>\n",
       "      <td>1970</td>\n",
       "    </tr>\n",
       "    <tr>\n",
       "      <th>4</th>\n",
       "      <td>'5'</td>\n",
       "      <td>1980</td>\n",
       "    </tr>\n",
       "    <tr>\n",
       "      <th>5</th>\n",
       "      <td>'6'</td>\n",
       "      <td>1970</td>\n",
       "    </tr>\n",
       "    <tr>\n",
       "      <th>6</th>\n",
       "      <td>'7'</td>\n",
       "      <td>1980</td>\n",
       "    </tr>\n",
       "    <tr>\n",
       "      <th>7</th>\n",
       "      <td>'8'</td>\n",
       "      <td>1980</td>\n",
       "    </tr>\n",
       "    <tr>\n",
       "      <th>8</th>\n",
       "      <td>'9'</td>\n",
       "      <td>1970</td>\n",
       "    </tr>\n",
       "  </tbody>\n",
       "</table>\n",
       "</div>"
      ],
      "text/plain": [
       "  Region  Decade Built\n",
       "0    '1'          1960\n",
       "1    '2'          1950\n",
       "2    '3'          1960\n",
       "3    '4'          1970\n",
       "4    '5'          1980\n",
       "5    '6'          1970\n",
       "6    '7'          1980\n",
       "7    '8'          1980\n",
       "8    '9'          1970"
      ]
     },
     "execution_count": 139,
     "metadata": {},
     "output_type": "execute_result"
    }
   ],
   "source": [
    "#Median decade houses were built by region\n",
    "rgn_mdecade= pd.DataFrame(sfh.groupby('DIVISION')['YRBUILT'].median()).reset_index().rename(columns={'DIVISION':'Region', 'YRBUILT':'Decade Built'})\n",
    "rgn_mdecade"
   ]
  },
  {
   "cell_type": "code",
   "execution_count": 34,
   "metadata": {},
   "outputs": [
    {
     "data": {
      "text/html": [
       "<div>\n",
       "<style scoped>\n",
       "    .dataframe tbody tr th:only-of-type {\n",
       "        vertical-align: middle;\n",
       "    }\n",
       "\n",
       "    .dataframe tbody tr th {\n",
       "        vertical-align: top;\n",
       "    }\n",
       "\n",
       "    .dataframe thead th {\n",
       "        text-align: right;\n",
       "    }\n",
       "</style>\n",
       "<table border=\"1\" class=\"dataframe\">\n",
       "  <thead>\n",
       "    <tr style=\"text-align: right;\">\n",
       "      <th></th>\n",
       "      <th></th>\n",
       "      <th>YRBUILT</th>\n",
       "    </tr>\n",
       "    <tr>\n",
       "      <th>DIVISION</th>\n",
       "      <th>YRBUILT</th>\n",
       "      <th></th>\n",
       "    </tr>\n",
       "  </thead>\n",
       "  <tbody>\n",
       "    <tr>\n",
       "      <th rowspan=\"11\" valign=\"top\">'1'</th>\n",
       "      <th>1910</th>\n",
       "      <td>304</td>\n",
       "    </tr>\n",
       "    <tr>\n",
       "      <th>1950</th>\n",
       "      <td>304</td>\n",
       "    </tr>\n",
       "    <tr>\n",
       "      <th>1980</th>\n",
       "      <td>263</td>\n",
       "    </tr>\n",
       "    <tr>\n",
       "      <th>1960</th>\n",
       "      <td>259</td>\n",
       "    </tr>\n",
       "    <tr>\n",
       "      <th>1970</th>\n",
       "      <td>249</td>\n",
       "    </tr>\n",
       "    <tr>\n",
       "      <th>1990</th>\n",
       "      <td>173</td>\n",
       "    </tr>\n",
       "    <tr>\n",
       "      <th>2000</th>\n",
       "      <td>169</td>\n",
       "    </tr>\n",
       "    <tr>\n",
       "      <th>1940</th>\n",
       "      <td>125</td>\n",
       "    </tr>\n",
       "    <tr>\n",
       "      <th>1930</th>\n",
       "      <td>103</td>\n",
       "    </tr>\n",
       "    <tr>\n",
       "      <th>1920</th>\n",
       "      <td>101</td>\n",
       "    </tr>\n",
       "    <tr>\n",
       "      <th>2010</th>\n",
       "      <td>49</td>\n",
       "    </tr>\n",
       "    <tr>\n",
       "      <th rowspan=\"11\" valign=\"top\">'2'</th>\n",
       "      <th>1950</th>\n",
       "      <td>654</td>\n",
       "    </tr>\n",
       "    <tr>\n",
       "      <th>1910</th>\n",
       "      <td>557</td>\n",
       "    </tr>\n",
       "    <tr>\n",
       "      <th>1970</th>\n",
       "      <td>456</td>\n",
       "    </tr>\n",
       "    <tr>\n",
       "      <th>1960</th>\n",
       "      <td>447</td>\n",
       "    </tr>\n",
       "    <tr>\n",
       "      <th>1980</th>\n",
       "      <td>365</td>\n",
       "    </tr>\n",
       "    <tr>\n",
       "      <th>1920</th>\n",
       "      <td>352</td>\n",
       "    </tr>\n",
       "    <tr>\n",
       "      <th>1990</th>\n",
       "      <td>336</td>\n",
       "    </tr>\n",
       "    <tr>\n",
       "      <th>1940</th>\n",
       "      <td>330</td>\n",
       "    </tr>\n",
       "    <tr>\n",
       "      <th>2000</th>\n",
       "      <td>286</td>\n",
       "    </tr>\n",
       "    <tr>\n",
       "      <th>1930</th>\n",
       "      <td>213</td>\n",
       "    </tr>\n",
       "    <tr>\n",
       "      <th>2010</th>\n",
       "      <td>92</td>\n",
       "    </tr>\n",
       "    <tr>\n",
       "      <th rowspan=\"8\" valign=\"top\">'3'</th>\n",
       "      <th>1950</th>\n",
       "      <td>1094</td>\n",
       "    </tr>\n",
       "    <tr>\n",
       "      <th>1970</th>\n",
       "      <td>846</td>\n",
       "    </tr>\n",
       "    <tr>\n",
       "      <th>1990</th>\n",
       "      <td>809</td>\n",
       "    </tr>\n",
       "    <tr>\n",
       "      <th>1960</th>\n",
       "      <td>786</td>\n",
       "    </tr>\n",
       "    <tr>\n",
       "      <th>2000</th>\n",
       "      <td>680</td>\n",
       "    </tr>\n",
       "    <tr>\n",
       "      <th>1910</th>\n",
       "      <td>592</td>\n",
       "    </tr>\n",
       "    <tr>\n",
       "      <th>1980</th>\n",
       "      <td>564</td>\n",
       "    </tr>\n",
       "    <tr>\n",
       "      <th>1940</th>\n",
       "      <td>522</td>\n",
       "    </tr>\n",
       "    <tr>\n",
       "      <th>...</th>\n",
       "      <th>...</th>\n",
       "      <td>...</td>\n",
       "    </tr>\n",
       "    <tr>\n",
       "      <th rowspan=\"8\" valign=\"top\">'7'</th>\n",
       "      <th>1990</th>\n",
       "      <td>728</td>\n",
       "    </tr>\n",
       "    <tr>\n",
       "      <th>1960</th>\n",
       "      <td>610</td>\n",
       "    </tr>\n",
       "    <tr>\n",
       "      <th>1950</th>\n",
       "      <td>592</td>\n",
       "    </tr>\n",
       "    <tr>\n",
       "      <th>2010</th>\n",
       "      <td>492</td>\n",
       "    </tr>\n",
       "    <tr>\n",
       "      <th>1940</th>\n",
       "      <td>256</td>\n",
       "    </tr>\n",
       "    <tr>\n",
       "      <th>1930</th>\n",
       "      <td>98</td>\n",
       "    </tr>\n",
       "    <tr>\n",
       "      <th>1920</th>\n",
       "      <td>86</td>\n",
       "    </tr>\n",
       "    <tr>\n",
       "      <th>1910</th>\n",
       "      <td>85</td>\n",
       "    </tr>\n",
       "    <tr>\n",
       "      <th rowspan=\"11\" valign=\"top\">'8'</th>\n",
       "      <th>2000</th>\n",
       "      <td>842</td>\n",
       "    </tr>\n",
       "    <tr>\n",
       "      <th>1970</th>\n",
       "      <td>533</td>\n",
       "    </tr>\n",
       "    <tr>\n",
       "      <th>1990</th>\n",
       "      <td>533</td>\n",
       "    </tr>\n",
       "    <tr>\n",
       "      <th>1980</th>\n",
       "      <td>476</td>\n",
       "    </tr>\n",
       "    <tr>\n",
       "      <th>1960</th>\n",
       "      <td>267</td>\n",
       "    </tr>\n",
       "    <tr>\n",
       "      <th>1950</th>\n",
       "      <td>215</td>\n",
       "    </tr>\n",
       "    <tr>\n",
       "      <th>2010</th>\n",
       "      <td>191</td>\n",
       "    </tr>\n",
       "    <tr>\n",
       "      <th>1940</th>\n",
       "      <td>86</td>\n",
       "    </tr>\n",
       "    <tr>\n",
       "      <th>1910</th>\n",
       "      <td>60</td>\n",
       "    </tr>\n",
       "    <tr>\n",
       "      <th>1930</th>\n",
       "      <td>42</td>\n",
       "    </tr>\n",
       "    <tr>\n",
       "      <th>1920</th>\n",
       "      <td>36</td>\n",
       "    </tr>\n",
       "    <tr>\n",
       "      <th rowspan=\"11\" valign=\"top\">'9'</th>\n",
       "      <th>1980</th>\n",
       "      <td>1212</td>\n",
       "    </tr>\n",
       "    <tr>\n",
       "      <th>1950</th>\n",
       "      <td>1188</td>\n",
       "    </tr>\n",
       "    <tr>\n",
       "      <th>2000</th>\n",
       "      <td>1152</td>\n",
       "    </tr>\n",
       "    <tr>\n",
       "      <th>1970</th>\n",
       "      <td>1147</td>\n",
       "    </tr>\n",
       "    <tr>\n",
       "      <th>1990</th>\n",
       "      <td>1019</td>\n",
       "    </tr>\n",
       "    <tr>\n",
       "      <th>1960</th>\n",
       "      <td>951</td>\n",
       "    </tr>\n",
       "    <tr>\n",
       "      <th>1940</th>\n",
       "      <td>595</td>\n",
       "    </tr>\n",
       "    <tr>\n",
       "      <th>1920</th>\n",
       "      <td>369</td>\n",
       "    </tr>\n",
       "    <tr>\n",
       "      <th>1910</th>\n",
       "      <td>363</td>\n",
       "    </tr>\n",
       "    <tr>\n",
       "      <th>2010</th>\n",
       "      <td>281</td>\n",
       "    </tr>\n",
       "    <tr>\n",
       "      <th>1930</th>\n",
       "      <td>239</td>\n",
       "    </tr>\n",
       "  </tbody>\n",
       "</table>\n",
       "<p>99 rows × 1 columns</p>\n",
       "</div>"
      ],
      "text/plain": [
       "                  YRBUILT\n",
       "DIVISION YRBUILT         \n",
       "'1'      1910         304\n",
       "         1950         304\n",
       "         1980         263\n",
       "         1960         259\n",
       "         1970         249\n",
       "         1990         173\n",
       "         2000         169\n",
       "         1940         125\n",
       "         1930         103\n",
       "         1920         101\n",
       "         2010          49\n",
       "'2'      1950         654\n",
       "         1910         557\n",
       "         1970         456\n",
       "         1960         447\n",
       "         1980         365\n",
       "         1920         352\n",
       "         1990         336\n",
       "         1940         330\n",
       "         2000         286\n",
       "         1930         213\n",
       "         2010          92\n",
       "'3'      1950        1094\n",
       "         1970         846\n",
       "         1990         809\n",
       "         1960         786\n",
       "         2000         680\n",
       "         1910         592\n",
       "         1980         564\n",
       "         1940         522\n",
       "...                   ...\n",
       "'7'      1990         728\n",
       "         1960         610\n",
       "         1950         592\n",
       "         2010         492\n",
       "         1940         256\n",
       "         1930          98\n",
       "         1920          86\n",
       "         1910          85\n",
       "'8'      2000         842\n",
       "         1970         533\n",
       "         1990         533\n",
       "         1980         476\n",
       "         1960         267\n",
       "         1950         215\n",
       "         2010         191\n",
       "         1940          86\n",
       "         1910          60\n",
       "         1930          42\n",
       "         1920          36\n",
       "'9'      1980        1212\n",
       "         1950        1188\n",
       "         2000        1152\n",
       "         1970        1147\n",
       "         1990        1019\n",
       "         1960         951\n",
       "         1940         595\n",
       "         1920         369\n",
       "         1910         363\n",
       "         2010         281\n",
       "         1930         239\n",
       "\n",
       "[99 rows x 1 columns]"
      ]
     },
     "execution_count": 34,
     "metadata": {},
     "output_type": "execute_result"
    }
   ],
   "source": [
    "#exploring year (decade) built by region\n",
    "yr_counts=pd.DataFrame(div_sf['YRBUILT'].value_counts())\n",
    "yr_counts"
   ]
  },
  {
   "cell_type": "code",
   "execution_count": 48,
   "metadata": {},
   "outputs": [
    {
     "data": {
      "text/plain": [
       "Text(0.5, 1.0, 'Decade built by region')"
      ]
     },
     "execution_count": 48,
     "metadata": {},
     "output_type": "execute_result"
    },
    {
     "data": {
      "image/png": "[encoded data removed]",
      "text/plain": [
       "<Figure size 720x864 with 9 Axes>"
      ]
     },
     "metadata": {
      "needs_background": "light"
     },
     "output_type": "display_data"
    }
   ],
   "source": [
    "#plot decade built by region - SEPARATE FREQUNCY DISTRIBTUIONS? stacked barplots?\n",
    "div_sf.boxplot(column= 'YRBUILT', by= 'DIVISION', subplots=True, figsize=(10,12))\n",
    "plt.title('Decade built by region')"
   ]
  },
  {
   "cell_type": "code",
   "execution_count": 42,
   "metadata": {},
   "outputs": [
    {
     "data": {
      "text/plain": [
       "(1910, 2010, 0.0, 6916.35)"
      ]
     },
     "execution_count": 42,
     "metadata": {},
     "output_type": "execute_result"
    },
    {
     "data": {
      "image/png": "[encoded data removed]",
      "text/plain": [
       "<Figure size 432x288 with 1 Axes>"
      ]
     },
     "metadata": {
      "needs_background": "light"
     },
     "output_type": "display_data"
    }
   ],
   "source": [
    "#Plot national distribution for deade built\n",
    "sfh.YRBUILT.plot.hist(bins=11)\n",
    "plt.xlabel('National single family housing decade built')\n",
    "plt.axis(xmin= 1910, xmax=2010)"
   ]
  },
  {
   "cell_type": "code",
   "execution_count": 140,
   "metadata": {},
   "outputs": [
    {
     "data": {
      "text/plain": [
       "<pandas.core.groupby.groupby.DataFrameGroupBy object at 0x0000015E9A511F28>"
      ]
     },
     "execution_count": 140,
     "metadata": {},
     "output_type": "execute_result"
    }
   ],
   "source": [
    "#Creade data grouped by decade\n",
    "dec_sf= sfh.groupby('YRBUILT')\n",
    "dec_sf"
   ]
  },
  {
   "cell_type": "code",
   "execution_count": 49,
   "metadata": {},
   "outputs": [
    {
     "data": {
      "text/plain": [
       "YRBUILT  DIVISION\n",
       "1910     '3'          592\n",
       "         '2'          557\n",
       "         '9'          363\n",
       "         '1'          304\n",
       "         '4'          261\n",
       "         '5'          235\n",
       "         '7'           85\n",
       "         '8'           60\n",
       "         '6'           54\n",
       "1920     '3'          371\n",
       "         '9'          369\n",
       "         '2'          352\n",
       "         '5'          187\n",
       "         '4'          107\n",
       "         '1'          101\n",
       "         '7'           86\n",
       "         '6'           44\n",
       "         '8'           36\n",
       "1930     '3'          276\n",
       "         '9'          239\n",
       "         '2'          213\n",
       "         '5'          213\n",
       "         '1'          103\n",
       "         '7'           98\n",
       "         '4'           81\n",
       "         '6'           68\n",
       "         '8'           42\n",
       "1940     '9'          595\n",
       "         '3'          522\n",
       "         '5'          407\n",
       "                     ... \n",
       "1980     '1'          263\n",
       "         '4'          224\n",
       "         '6'          222\n",
       "1990     '5'         1445\n",
       "         '9'         1019\n",
       "         '3'          809\n",
       "         '7'          728\n",
       "         '8'          533\n",
       "         '2'          336\n",
       "         '4'          250\n",
       "         '6'          228\n",
       "         '1'          173\n",
       "2000     '5'         1719\n",
       "         '7'         1196\n",
       "         '9'         1152\n",
       "         '8'          842\n",
       "         '3'          680\n",
       "         '2'          286\n",
       "         '6'          282\n",
       "         '4'          261\n",
       "         '1'          169\n",
       "2010     '7'          492\n",
       "         '5'          421\n",
       "         '9'          281\n",
       "         '8'          191\n",
       "         '3'          152\n",
       "         '2'           92\n",
       "         '4'           77\n",
       "         '6'           77\n",
       "         '1'           49\n",
       "Name: DIVISION, Length: 99, dtype: int64"
      ]
     },
     "execution_count": 49,
     "metadata": {},
     "output_type": "execute_result"
    }
   ],
   "source": [
    "#SHOULD PLOT bar graph x= 'YRBUILT', bars are division values stacked\n",
    "dec_sf['DIVISION'].value_counts()"
   ]
  },
  {
   "cell_type": "code",
   "execution_count": 69,
   "metadata": {},
   "outputs": [
    {
     "data": {
      "text/plain": [
       "Text(0.5, 0, 'Decade built')"
      ]
     },
     "execution_count": 69,
     "metadata": {},
     "output_type": "execute_result"
    },
    {
     "data": {
      "image/png": "[encoded data removed]",
      "text/plain": [
       "<Figure size 432x288 with 1 Axes>"
      ]
     },
     "metadata": {
      "needs_background": "light"
     },
     "output_type": "display_data"
    }
   ],
   "source": [
    "#plot national average unit size by decade\n",
    "unitsz_yr = sfh.groupby('YRBUILT').mean().reset_index()\n",
    "unitsz_yr.plot.bar(x='YRBUILT', y='UNITSIZE', color='black')\n",
    "plt.title('National single family average home sizes trend')\n",
    "plt.xlabel('Decade built')\n",
    "#plt.yticks({'1':'< 500', '2':'500-749', '3':'750-799', '4':'1000-1499', '5':'1500-1999')"
   ]
  },
  {
   "cell_type": "code",
   "execution_count": 178,
   "metadata": {},
   "outputs": [
    {
     "data": {
      "text/plain": [
       "Text(0, 0.5, 'Total rooms')"
      ]
     },
     "execution_count": 178,
     "metadata": {},
     "output_type": "execute_result"
    },
    {
     "data": {
      "image/png": "[encoded data removed]",
      "text/plain": [
       "<Figure size 432x288 with 1 Axes>"
      ]
     },
     "metadata": {
      "needs_background": "light"
     },
     "output_type": "display_data"
    }
   ],
   "source": [
    "#plot national average number of rooms by decade\n",
    "totrms_yr = sfh.groupby('YRBUILT').mean().reset_index()\n",
    "totrms_yr.plot.bar(x='YRBUILT', y='TOTROOMS', color='black')\n",
    "plt.title('Single family homes average total rooms trend')\n",
    "plt.xlabel('Decade built')\n",
    "plt.ylabel('Total rooms')"
   ]
  },
  {
   "cell_type": "code",
   "execution_count": 72,
   "metadata": {},
   "outputs": [
    {
     "data": {
      "text/plain": [
       "<matplotlib.axes._subplots.AxesSubplot at 0x15d18aa92e8>"
      ]
     },
     "execution_count": 72,
     "metadata": {},
     "output_type": "execute_result"
    },
    {
     "data": {
      "image/png": "[encoded data removed]",
      "text/plain": [
       "<Figure size 432x288 with 1 Axes>"
      ]
     },
     "metadata": {
      "needs_background": "light"
     },
     "output_type": "display_data"
    }
   ],
   "source": [
    "size= sfh.UNITSIZE\n",
    "rooms= sfh.TOTROOMS\n",
    "index= sfh.DIVISION\n",
    "comp= pd.DataFrame({'size':size, 'rooms':rooms}, index=index)\n",
    "comp.plot.bar(rot=30)"
   ]
  },
  {
   "cell_type": "code",
   "execution_count": 74,
   "metadata": {},
   "outputs": [],
   "source": [
    "#Importing libraries\n",
    "import numpy as np\n",
    "import seaborn as sns"
   ]
  },
  {
   "cell_type": "code",
   "execution_count": 79,
   "metadata": {},
   "outputs": [
    {
     "data": {
      "image/png": "[encoded data removed]",
      "text/plain": [
       "<Figure size 432x288 with 1 Axes>"
      ]
     },
     "metadata": {
      "needs_background": "light"
     },
     "output_type": "display_data"
    }
   ],
   "source": [
    "#checking relationship between number of rooms and square footage\n",
    "sz_rm = sns.regplot(x='TOTROOMS', y='UNITSIZE', data=sfh)"
   ]
  },
  {
   "cell_type": "code",
   "execution_count": 83,
   "metadata": {},
   "outputs": [
    {
     "data": {
      "text/plain": [
       "<matplotlib.axes._subplots.AxesSubplot at 0x15e9cd9a860>"
      ]
     },
     "execution_count": 83,
     "metadata": {},
     "output_type": "execute_result"
    },
    {
     "data": {
      "image/png": "[encoded data removed]",
      "text/plain": [
       "<Figure size 432x288 with 1 Axes>"
      ]
     },
     "metadata": {
      "needs_background": "light"
     },
     "output_type": "display_data"
    }
   ],
   "source": [
    "#Plot square footage by region\n",
    "box_unitsz1 = sfh.boxplot(column='UNITSIZE', by= 'DIVISION', showfliers=False)\n",
    "plt.xlabel('Region')\n",
    "plt.ylabel('Living area')\n",
    "box_unitsz1"
   ]
  },
  {
   "cell_type": "code",
   "execution_count": 179,
   "metadata": {},
   "outputs": [
    {
     "data": {
      "text/plain": [
       "<matplotlib.axes._subplots.AxesSubplot at 0x15ed8bcf048>"
      ]
     },
     "execution_count": 179,
     "metadata": {},
     "output_type": "execute_result"
    },
    {
     "data": {
      "image/png": "[encoded data removed]",
      "text/plain": [
       "<Figure size 432x288 with 1 Axes>"
      ]
     },
     "metadata": {
      "needs_background": "light"
     },
     "output_type": "display_data"
    }
   ],
   "source": [
    "#Plot number of rooms by region\n",
    "box_totrms = sfh.boxplot(column='TOTROOMS', by= 'DIVISION')\n",
    "plt.xlabel('Region')\n",
    "plt.ylabel('Total rooms')\n",
    "box_totrms"
   ]
  },
  {
   "cell_type": "code",
   "execution_count": 181,
   "metadata": {},
   "outputs": [
    {
     "data": {
      "text/plain": [
       "([<matplotlib.axis.YTick at 0x15ed972ef60>,\n",
       "  <matplotlib.axis.YTick at 0x15ed972e8d0>,\n",
       "  <matplotlib.axis.YTick at 0x15ed960c518>],\n",
       " <a list of 3 Text yticklabel objects>)"
      ]
     },
     "execution_count": 181,
     "metadata": {},
     "output_type": "execute_result"
    },
    {
     "data": {
      "image/png": "[encoded data removed]",
      "text/plain": [
       "<Figure size 432x288 with 1 Axes>"
      ]
     },
     "metadata": {
      "needs_background": "light"
     },
     "output_type": "display_data"
    }
   ],
   "source": [
    "#Plot national mean of stories of houses by decade\n",
    "flr_dec_m= sfh.groupby('YRBUILT')['UNITFLOORS'].mean().reset_index()\n",
    "flr_dec_m.plot.bar(x='YRBUILT', y='UNITFLOORS', color='b')\n",
    "plt.xlabel('Decade')\n",
    "plt.ylabel('Floor levels')\n",
    "plt.yticks(np.arange(1, 4, 1.0))"
   ]
  },
  {
   "cell_type": "code",
   "execution_count": 88,
   "metadata": {
    "scrolled": true
   },
   "outputs": [],
   "source": [
    "#Frequency of 1-, 2- & 3-story houses by decade\n",
    "flr_dec= pd.DataFrame(dec_sf['UNITFLOORS'].value_counts())"
   ]
  },
  {
   "cell_type": "code",
   "execution_count": 89,
   "metadata": {},
   "outputs": [
    {
     "data": {
      "text/html": [
       "<div>\n",
       "<style scoped>\n",
       "    .dataframe tbody tr th:only-of-type {\n",
       "        vertical-align: middle;\n",
       "    }\n",
       "\n",
       "    .dataframe tbody tr th {\n",
       "        vertical-align: top;\n",
       "    }\n",
       "\n",
       "    .dataframe thead tr th {\n",
       "        text-align: left;\n",
       "    }\n",
       "\n",
       "    .dataframe thead tr:last-of-type th {\n",
       "        text-align: right;\n",
       "    }\n",
       "</style>\n",
       "<table border=\"1\" class=\"dataframe\">\n",
       "  <thead>\n",
       "    <tr>\n",
       "      <th></th>\n",
       "      <th colspan=\"3\" halign=\"left\">UNITFLOORS</th>\n",
       "    </tr>\n",
       "    <tr>\n",
       "      <th>UNITFLOORS</th>\n",
       "      <th>1</th>\n",
       "      <th>2</th>\n",
       "      <th>3</th>\n",
       "    </tr>\n",
       "    <tr>\n",
       "      <th>YRBUILT</th>\n",
       "      <th></th>\n",
       "      <th></th>\n",
       "      <th></th>\n",
       "    </tr>\n",
       "  </thead>\n",
       "  <tbody>\n",
       "    <tr>\n",
       "      <th>1910</th>\n",
       "      <td>420</td>\n",
       "      <td>689</td>\n",
       "      <td>1402</td>\n",
       "    </tr>\n",
       "    <tr>\n",
       "      <th>1920</th>\n",
       "      <td>416</td>\n",
       "      <td>445</td>\n",
       "      <td>792</td>\n",
       "    </tr>\n",
       "    <tr>\n",
       "      <th>1930</th>\n",
       "      <td>433</td>\n",
       "      <td>373</td>\n",
       "      <td>527</td>\n",
       "    </tr>\n",
       "    <tr>\n",
       "      <th>1940</th>\n",
       "      <td>1158</td>\n",
       "      <td>693</td>\n",
       "      <td>683</td>\n",
       "    </tr>\n",
       "    <tr>\n",
       "      <th>1950</th>\n",
       "      <td>2856</td>\n",
       "      <td>1656</td>\n",
       "      <td>963</td>\n",
       "    </tr>\n",
       "    <tr>\n",
       "      <th>1960</th>\n",
       "      <td>2426</td>\n",
       "      <td>1570</td>\n",
       "      <td>742</td>\n",
       "    </tr>\n",
       "    <tr>\n",
       "      <th>1970</th>\n",
       "      <td>2946</td>\n",
       "      <td>1972</td>\n",
       "      <td>1004</td>\n",
       "    </tr>\n",
       "    <tr>\n",
       "      <th>1980</th>\n",
       "      <td>2680</td>\n",
       "      <td>1966</td>\n",
       "      <td>1158</td>\n",
       "    </tr>\n",
       "    <tr>\n",
       "      <th>1990</th>\n",
       "      <td>2016</td>\n",
       "      <td>2156</td>\n",
       "      <td>1349</td>\n",
       "    </tr>\n",
       "    <tr>\n",
       "      <th>2000</th>\n",
       "      <td>2499</td>\n",
       "      <td>2743</td>\n",
       "      <td>1345</td>\n",
       "    </tr>\n",
       "    <tr>\n",
       "      <th>2010</th>\n",
       "      <td>602</td>\n",
       "      <td>817</td>\n",
       "      <td>413</td>\n",
       "    </tr>\n",
       "  </tbody>\n",
       "</table>\n",
       "</div>"
      ],
      "text/plain": [
       "           UNITFLOORS            \n",
       "UNITFLOORS          1     2     3\n",
       "YRBUILT                          \n",
       "1910              420   689  1402\n",
       "1920              416   445   792\n",
       "1930              433   373   527\n",
       "1940             1158   693   683\n",
       "1950             2856  1656   963\n",
       "1960             2426  1570   742\n",
       "1970             2946  1972  1004\n",
       "1980             2680  1966  1158\n",
       "1990             2016  2156  1349\n",
       "2000             2499  2743  1345\n",
       "2010              602   817   413"
      ]
     },
     "execution_count": 89,
     "metadata": {},
     "output_type": "execute_result"
    }
   ],
   "source": [
    "#Unstack stories for decade\n",
    "u_flr_dec= pd.DataFrame(flr_dec.unstack(level= 'UNITFLOORS'))\n",
    "u_flr_dec"
   ]
  },
  {
   "cell_type": "code",
   "execution_count": 90,
   "metadata": {},
   "outputs": [
    {
     "data": {
      "text/plain": [
       "array([[<matplotlib.axes._subplots.AxesSubplot object at 0x0000015E9CA2CDD8>,\n",
       "        <matplotlib.axes._subplots.AxesSubplot object at 0x0000015E9C651DD8>,\n",
       "        <matplotlib.axes._subplots.AxesSubplot object at 0x0000015E9C643D68>,\n",
       "        <matplotlib.axes._subplots.AxesSubplot object at 0x0000015E9C626D30>],\n",
       "       [<matplotlib.axes._subplots.AxesSubplot object at 0x0000015E9C60FCF8>,\n",
       "        <matplotlib.axes._subplots.AxesSubplot object at 0x0000015E9C604CC0>,\n",
       "        <matplotlib.axes._subplots.AxesSubplot object at 0x0000015E9C5A9C88>,\n",
       "        <matplotlib.axes._subplots.AxesSubplot object at 0x0000015E9C594C88>],\n",
       "       [<matplotlib.axes._subplots.AxesSubplot object at 0x0000015E9C594CC0>,\n",
       "        <matplotlib.axes._subplots.AxesSubplot object at 0x0000015E9C3EABE0>,\n",
       "        <matplotlib.axes._subplots.AxesSubplot object at 0x0000015E9C3D2BA8>,\n",
       "        <matplotlib.axes._subplots.AxesSubplot object at 0x0000015E9C3BDB70>]],\n",
       "      dtype=object)"
      ]
     },
     "execution_count": 90,
     "metadata": {},
     "output_type": "execute_result"
    },
    {
     "data": {
      "image/png": "[encoded data removed]",
      "text/plain": [
       "<Figure size 1080x864 with 12 Axes>"
      ]
     },
     "metadata": {
      "needs_background": "light"
     },
     "output_type": "display_data"
    }
   ],
   "source": [
    "#Plot charts for 1, 2 and 3 floors for each decade\n",
    "u_flr_dec.T.plot(subplots=True, kind='barh', figsize= (15,12), layout=(3,4), legend=False, sharey=True, title='1-, 2-, 3-story houses in decade built')"
   ]
  },
  {
   "cell_type": "code",
   "execution_count": 91,
   "metadata": {},
   "outputs": [
    {
     "data": {
      "text/html": [
       "<div>\n",
       "<style scoped>\n",
       "    .dataframe tbody tr th:only-of-type {\n",
       "        vertical-align: middle;\n",
       "    }\n",
       "\n",
       "    .dataframe tbody tr th {\n",
       "        vertical-align: top;\n",
       "    }\n",
       "\n",
       "    .dataframe thead th {\n",
       "        text-align: right;\n",
       "    }\n",
       "</style>\n",
       "<table border=\"1\" class=\"dataframe\">\n",
       "  <thead>\n",
       "    <tr style=\"text-align: right;\">\n",
       "      <th></th>\n",
       "      <th>Region</th>\n",
       "      <th>No. floors</th>\n",
       "    </tr>\n",
       "  </thead>\n",
       "  <tbody>\n",
       "    <tr>\n",
       "      <th>0</th>\n",
       "      <td>'1'</td>\n",
       "      <td>3</td>\n",
       "    </tr>\n",
       "    <tr>\n",
       "      <th>1</th>\n",
       "      <td>'2'</td>\n",
       "      <td>3</td>\n",
       "    </tr>\n",
       "    <tr>\n",
       "      <th>2</th>\n",
       "      <td>'3'</td>\n",
       "      <td>2</td>\n",
       "    </tr>\n",
       "    <tr>\n",
       "      <th>3</th>\n",
       "      <td>'4'</td>\n",
       "      <td>2</td>\n",
       "    </tr>\n",
       "    <tr>\n",
       "      <th>4</th>\n",
       "      <td>'5'</td>\n",
       "      <td>2</td>\n",
       "    </tr>\n",
       "    <tr>\n",
       "      <th>5</th>\n",
       "      <td>'6'</td>\n",
       "      <td>1</td>\n",
       "    </tr>\n",
       "    <tr>\n",
       "      <th>6</th>\n",
       "      <td>'7'</td>\n",
       "      <td>1</td>\n",
       "    </tr>\n",
       "    <tr>\n",
       "      <th>7</th>\n",
       "      <td>'8'</td>\n",
       "      <td>1</td>\n",
       "    </tr>\n",
       "    <tr>\n",
       "      <th>8</th>\n",
       "      <td>'9'</td>\n",
       "      <td>1</td>\n",
       "    </tr>\n",
       "  </tbody>\n",
       "</table>\n",
       "</div>"
      ],
      "text/plain": [
       "  Region  No. floors\n",
       "0    '1'           3\n",
       "1    '2'           3\n",
       "2    '3'           2\n",
       "3    '4'           2\n",
       "4    '5'           2\n",
       "5    '6'           1\n",
       "6    '7'           1\n",
       "7    '8'           1\n",
       "8    '9'           1"
      ]
     },
     "execution_count": 91,
     "metadata": {},
     "output_type": "execute_result"
    }
   ],
   "source": [
    "#Table: Median floors by region\n",
    "pd.DataFrame(sfh.groupby('DIVISION')['UNITFLOORS'].median()).reset_index().rename(columns={'DIVISION':'Region', 'UNITFLOORS':'No. floors'})"
   ]
  },
  {
   "cell_type": "code",
   "execution_count": 92,
   "metadata": {},
   "outputs": [],
   "source": [
    "#Frequency of 1-, 2- & 3-story houses by region\n",
    "floors= pd.DataFrame(div_sf['UNITFLOORS'].value_counts()).rename(columns={'DIVISION':'Region', 'UNITFLOORS':'Number of floors'})"
   ]
  },
  {
   "cell_type": "code",
   "execution_count": 93,
   "metadata": {},
   "outputs": [
    {
     "data": {
      "text/html": [
       "<div>\n",
       "<style scoped>\n",
       "    .dataframe tbody tr th:only-of-type {\n",
       "        vertical-align: middle;\n",
       "    }\n",
       "\n",
       "    .dataframe tbody tr th {\n",
       "        vertical-align: top;\n",
       "    }\n",
       "\n",
       "    .dataframe thead tr th {\n",
       "        text-align: left;\n",
       "    }\n",
       "\n",
       "    .dataframe thead tr:last-of-type th {\n",
       "        text-align: right;\n",
       "    }\n",
       "</style>\n",
       "<table border=\"1\" class=\"dataframe\">\n",
       "  <thead>\n",
       "    <tr>\n",
       "      <th></th>\n",
       "      <th colspan=\"3\" halign=\"left\">Number of floors</th>\n",
       "    </tr>\n",
       "    <tr>\n",
       "      <th>UNITFLOORS</th>\n",
       "      <th>1</th>\n",
       "      <th>2</th>\n",
       "      <th>3</th>\n",
       "    </tr>\n",
       "    <tr>\n",
       "      <th>DIVISION</th>\n",
       "      <th></th>\n",
       "      <th></th>\n",
       "      <th></th>\n",
       "    </tr>\n",
       "  </thead>\n",
       "  <tbody>\n",
       "    <tr>\n",
       "      <th>'1'</th>\n",
       "      <td>167</td>\n",
       "      <td>713</td>\n",
       "      <td>1219</td>\n",
       "    </tr>\n",
       "    <tr>\n",
       "      <th>'2'</th>\n",
       "      <td>411</td>\n",
       "      <td>1265</td>\n",
       "      <td>2412</td>\n",
       "    </tr>\n",
       "    <tr>\n",
       "      <th>'3'</th>\n",
       "      <td>1279</td>\n",
       "      <td>2693</td>\n",
       "      <td>2720</td>\n",
       "    </tr>\n",
       "    <tr>\n",
       "      <th>'4'</th>\n",
       "      <td>482</td>\n",
       "      <td>1073</td>\n",
       "      <td>619</td>\n",
       "    </tr>\n",
       "    <tr>\n",
       "      <th>'5'</th>\n",
       "      <td>4114</td>\n",
       "      <td>2975</td>\n",
       "      <td>2207</td>\n",
       "    </tr>\n",
       "    <tr>\n",
       "      <th>'6'</th>\n",
       "      <td>1160</td>\n",
       "      <td>549</td>\n",
       "      <td>148</td>\n",
       "    </tr>\n",
       "    <tr>\n",
       "      <th>'7'</th>\n",
       "      <td>4262</td>\n",
       "      <td>1545</td>\n",
       "      <td>100</td>\n",
       "    </tr>\n",
       "    <tr>\n",
       "      <th>'8'</th>\n",
       "      <td>1982</td>\n",
       "      <td>1011</td>\n",
       "      <td>288</td>\n",
       "    </tr>\n",
       "    <tr>\n",
       "      <th>'9'</th>\n",
       "      <td>4595</td>\n",
       "      <td>3256</td>\n",
       "      <td>665</td>\n",
       "    </tr>\n",
       "  </tbody>\n",
       "</table>\n",
       "</div>"
      ],
      "text/plain": [
       "           Number of floors            \n",
       "UNITFLOORS                1     2     3\n",
       "DIVISION                               \n",
       "'1'                     167   713  1219\n",
       "'2'                     411  1265  2412\n",
       "'3'                    1279  2693  2720\n",
       "'4'                     482  1073   619\n",
       "'5'                    4114  2975  2207\n",
       "'6'                    1160   549   148\n",
       "'7'                    4262  1545   100\n",
       "'8'                    1982  1011   288\n",
       "'9'                    4595  3256   665"
      ]
     },
     "execution_count": 93,
     "metadata": {},
     "output_type": "execute_result"
    }
   ],
   "source": [
    "#Unstack unit floors for region\n",
    "u_floors= pd.DataFrame(floors.unstack(level= 'UNITFLOORS'))\n",
    "u_floors"
   ]
  },
  {
   "cell_type": "code",
   "execution_count": 96,
   "metadata": {},
   "outputs": [
    {
     "data": {
      "text/plain": [
       "array([[<matplotlib.axes._subplots.AxesSubplot object at 0x0000015E9B5BDCF8>,\n",
       "        <matplotlib.axes._subplots.AxesSubplot object at 0x0000015E9B4505C0>,\n",
       "        <matplotlib.axes._subplots.AxesSubplot object at 0x0000015E9B44B9B0>],\n",
       "       [<matplotlib.axes._subplots.AxesSubplot object at 0x0000015E9B433E10>,\n",
       "        <matplotlib.axes._subplots.AxesSubplot object at 0x0000015E9B31D2B0>,\n",
       "        <matplotlib.axes._subplots.AxesSubplot object at 0x0000015E9B30B710>],\n",
       "       [<matplotlib.axes._subplots.AxesSubplot object at 0x0000015E9B2F4B70>,\n",
       "        <matplotlib.axes._subplots.AxesSubplot object at 0x0000015E9B25DFD0>,\n",
       "        <matplotlib.axes._subplots.AxesSubplot object at 0x0000015E9B25F080>]],\n",
       "      dtype=object)"
      ]
     },
     "execution_count": 96,
     "metadata": {},
     "output_type": "execute_result"
    },
    {
     "data": {
      "image/png": "[encoded data removed]",
      "text/plain": [
       "<Figure size 1080x1080 with 9 Axes>"
      ]
     },
     "metadata": {},
     "output_type": "display_data"
    }
   ],
   "source": [
    "#plot pie charts for 1, 2 and 3 floors for each division\n",
    "u_floors.T.plot.pie(subplots=True, figsize= (15,15), layout=(3,3), legend=False, title='1-, 2-, 3-story houses in regions 1-9')"
   ]
  },
  {
   "cell_type": "code",
   "execution_count": 113,
   "metadata": {},
   "outputs": [
    {
     "data": {
      "text/plain": [
       "([<matplotlib.axis.XTick at 0x15e9a90c278>,\n",
       "  <matplotlib.axis.XTick at 0x15e9a912b70>,\n",
       "  <matplotlib.axis.XTick at 0x15e9a912898>],\n",
       " <a list of 3 Text xticklabel objects>)"
      ]
     },
     "execution_count": 113,
     "metadata": {},
     "output_type": "execute_result"
    },
    {
     "data": {
      "image/png": "[encoded data removed]",
      "text/plain": [
       "<Figure size 432x288 with 1 Axes>"
      ]
     },
     "metadata": {
      "needs_background": "light"
     },
     "output_type": "display_data"
    }
   ],
   "source": [
    "#checking relationship between number of stories and square footage\n",
    "sz_rm = sns.regplot(x='UNITFLOORS', y='UNITSIZE', data=sfh)\n",
    "plt.axis(ymin=0)\n",
    "plt.ylabel('Living area')\n",
    "plt.xlabel('Number of stories')\n",
    "plt.title('Relationship of living area to number of stories')\n",
    "plt.xticks(np.arange(1, 4, 1.0))"
   ]
  },
  {
   "cell_type": "code",
   "execution_count": 114,
   "metadata": {},
   "outputs": [
    {
     "data": {
      "text/plain": [
       "([<matplotlib.axis.XTick at 0x15e9a5e0400>,\n",
       "  <matplotlib.axis.XTick at 0x15e9a5e65c0>,\n",
       "  <matplotlib.axis.XTick at 0x15e9a5e6da0>],\n",
       " <a list of 3 Text xticklabel objects>)"
      ]
     },
     "execution_count": 114,
     "metadata": {},
     "output_type": "execute_result"
    },
    {
     "data": {
      "image/png": "[encoded data removed]",
      "text/plain": [
       "<Figure size 432x288 with 1 Axes>"
      ]
     },
     "metadata": {
      "needs_background": "light"
     },
     "output_type": "display_data"
    }
   ],
   "source": [
    "#checking relationship between number of stories and total rooms\n",
    "sz_rm = sns.regplot(x='UNITFLOORS', y='TOTROOMS', data=sfh)\n",
    "plt.ylabel('Total rooms')\n",
    "plt.xlabel('Number of stories')\n",
    "plt.title('Relationship of number of rooms to number of stories')\n",
    "plt.xticks(np.arange(1, 4, 1.0))"
   ]
  },
  {
   "cell_type": "code",
   "execution_count": 161,
   "metadata": {},
   "outputs": [],
   "source": [
    "#frequency of seperate dining rooms in regions\n",
    "dr_div=div_sf['DINING'].value_counts()"
   ]
  },
  {
   "cell_type": "code",
   "execution_count": 162,
   "metadata": {},
   "outputs": [],
   "source": [
    "#Unstack DINING for region\n",
    "u_dr_div= pd.DataFrame(dr_div.unstack(level= 'DINING'))"
   ]
  },
  {
   "cell_type": "code",
   "execution_count": 164,
   "metadata": {},
   "outputs": [
    {
     "data": {
      "text/plain": [
       "array([[<matplotlib.axes._subplots.AxesSubplot object at 0x0000015ED5F97080>,\n",
       "        <matplotlib.axes._subplots.AxesSubplot object at 0x0000015ED5EEA588>,\n",
       "        <matplotlib.axes._subplots.AxesSubplot object at 0x0000015ED763C048>],\n",
       "       [<matplotlib.axes._subplots.AxesSubplot object at 0x0000015ED7506EF0>,\n",
       "        <matplotlib.axes._subplots.AxesSubplot object at 0x0000015ED72A5518>,\n",
       "        <matplotlib.axes._subplots.AxesSubplot object at 0x0000015ED717B390>],\n",
       "       [<matplotlib.axes._subplots.AxesSubplot object at 0x0000015ED708FDD8>,\n",
       "        <matplotlib.axes._subplots.AxesSubplot object at 0x0000015ED6FE22B0>,\n",
       "        <matplotlib.axes._subplots.AxesSubplot object at 0x0000015ED6FE22E8>]],\n",
       "      dtype=object)"
      ]
     },
     "execution_count": 164,
     "metadata": {},
     "output_type": "execute_result"
    },
    {
     "data": {
      "image/png": "[encoded data removed]",
      "text/plain": [
       "<Figure size 1080x1080 with 9 Axes>"
      ]
     },
     "metadata": {},
     "output_type": "display_data"
    }
   ],
   "source": [
    "u_dr_div.T.plot.pie(subplots=True, figsize= (15,15), layout=(3,3), legend=False, title='None, 1, 2 or more separate dining rooms in regions 1-9')"
   ]
  },
  {
   "cell_type": "code",
   "execution_count": 183,
   "metadata": {},
   "outputs": [
    {
     "data": {
      "text/plain": [
       "([<matplotlib.axis.XTick at 0x15ed9568588>,\n",
       "  <matplotlib.axis.XTick at 0x15ed956be80>,\n",
       "  <matplotlib.axis.XTick at 0x15ed956bba8>],\n",
       " <a list of 3 Text xticklabel objects>)"
      ]
     },
     "execution_count": 183,
     "metadata": {},
     "output_type": "execute_result"
    },
    {
     "data": {
      "image/png": "[encoded data removed]",
      "text/plain": [
       "<Figure size 432x288 with 1 Axes>"
      ]
     },
     "metadata": {
      "needs_background": "light"
     },
     "output_type": "display_data"
    }
   ],
   "source": [
    "#checking relationship between separate dining areas and total rooms\n",
    "sz_rm = sns.regplot(x='DINING', y='TOTROOMS', data=sfh)\n",
    "plt.ylabel('Total rooms')\n",
    "plt.xlabel('Number of separate dining areas')\n",
    "plt.title('Relationship of separate dining areas to number of rooms')\n",
    "plt.xticks(np.arange(1, 4, 1.0))"
   ]
  },
  {
   "cell_type": "code",
   "execution_count": 165,
   "metadata": {},
   "outputs": [
    {
     "data": {
      "text/plain": [
       "<matplotlib.axes._subplots.AxesSubplot at 0x15ed5f97e10>"
      ]
     },
     "execution_count": 165,
     "metadata": {},
     "output_type": "execute_result"
    },
    {
     "data": {
      "image/png": "[encoded data removed]",
      "text/plain": [
       "<Figure size 432x288 with 1 Axes>"
      ]
     },
     "metadata": {
      "needs_background": "light"
     },
     "output_type": "display_data"
    }
   ],
   "source": [
    "#plot other characteristics, bedroom counts by region\n",
    "box_bedrms1 = sfh.boxplot(column= 'BEDROOMS', by= 'DIVISION')\n",
    "box_bedrms1"
   ]
  },
  {
   "cell_type": "code",
   "execution_count": 168,
   "metadata": {},
   "outputs": [
    {
     "data": {
      "text/plain": [
       "3    1085\n",
       "2     325\n",
       "4     315\n",
       "5      86\n",
       "1      44\n",
       "0       2\n",
       "Name: BEDROOMS, dtype: int64"
      ]
     },
     "execution_count": 168,
     "metadata": {},
     "output_type": "execute_result"
    }
   ],
   "source": [
    "#look at value counts of bedrooms for region '6'\n",
    "sfh[sfh.DIVISION == \"'6'\"]['BEDROOMS'].value_counts()"
   ]
  },
  {
   "cell_type": "code",
   "execution_count": 169,
   "metadata": {},
   "outputs": [
    {
     "data": {
      "text/plain": [
       "<matplotlib.axes._subplots.AxesSubplot at 0x15ed5d50898>"
      ]
     },
     "execution_count": 169,
     "metadata": {},
     "output_type": "execute_result"
    },
    {
     "data": {
      "image/png": "[encoded data removed]",
      "text/plain": [
       "<Figure size 432x288 with 1 Axes>"
      ]
     },
     "metadata": {
      "needs_background": "light"
     },
     "output_type": "display_data"
    }
   ],
   "source": [
    "#plot bathrooms by region, 7-13 = 0 complete baths\n",
    "box_baths = sfh.boxplot(column= 'BATHROOMS', by= 'DIVISION')\n",
    "box_baths"
   ]
  },
  {
   "cell_type": "code",
   "execution_count": 170,
   "metadata": {},
   "outputs": [
    {
     "data": {
      "text/plain": [
       "DIVISION  OMB13CBSA\n",
       "'1'       '14460'      1179\n",
       "          '99998'       694\n",
       "          '99999'       226\n",
       "'2'       '37980'      1493\n",
       "          '99998'      1276\n",
       "          '35620'       999\n",
       "          '99999'       320\n",
       "'3'       '99998'      2337\n",
       "          '19820'      1868\n",
       "          '16980'      1385\n",
       "          '99999'      1102\n",
       "'4'       '99998'      1259\n",
       "          '99999'       915\n",
       "'5'       '99998'      3574\n",
       "          '47900'      1719\n",
       "          '12060'      1692\n",
       "          '33100'      1377\n",
       "          '99999'       737\n",
       "          '37980'       197\n",
       "'6'       '99998'      1354\n",
       "          '99999'       503\n",
       "'7'       '19100'      1838\n",
       "          '99998'      1793\n",
       "          '26420'      1684\n",
       "          '99999'       592\n",
       "'8'       '38060'      1658\n",
       "          '99998'      1323\n",
       "          '99999'       300\n",
       "'9'       '40140'      1990\n",
       "          '99998'      1844\n",
       "          '31080'      1541\n",
       "          '42660'      1521\n",
       "          '41860'      1373\n",
       "          '99999'       247\n",
       "Name: OMB13CBSA, dtype: int64"
      ]
     },
     "execution_count": 170,
     "metadata": {},
     "output_type": "execute_result"
    }
   ],
   "source": [
    "#START 15 metropololitans area for comparison to regions\n",
    "div_sf['OMB13CBSA'].value_counts()"
   ]
  },
  {
   "cell_type": "code",
   "execution_count": 174,
   "metadata": {},
   "outputs": [
    {
     "data": {
      "text/plain": [
       "'9'    6425\n",
       "'5'    4985\n",
       "'7'    3522\n",
       "'3'    3253\n",
       "'2'    2492\n",
       "'8'    1658\n",
       "'1'    1179\n",
       "Name: DIVISION, dtype: int64"
      ]
     },
     "execution_count": 174,
     "metadata": {},
     "output_type": "execute_result"
    }
   ],
   "source": [
    "#Dataframe with filtered out rows not in the metropolitan areas  \n",
    "no_metro = [\"'99999'\", \"'99998'\"]\n",
    "metro_sfh = sfh[~sfh.OMB13CBSA.isin(no_metro)]\n",
    "metro_sfh['DIVISION'].value_counts()"
   ]
  },
  {
   "cell_type": "code",
   "execution_count": 185,
   "metadata": {},
   "outputs": [
    {
     "data": {
      "text/plain": [
       "Index(['BLD', 'CONTROL', 'DIVISION', 'OMB13CBSA', 'TENURE', 'YRBUILT',\n",
       "       'UNITSIZE', 'TOTROOMS', 'UNITFLOORS', 'BEDROOMS', 'BATHROOMS', 'DINING',\n",
       "       'FIREPLACE', 'GARAGE'],\n",
       "      dtype='object')"
      ]
     },
     "execution_count": 185,
     "metadata": {},
     "output_type": "execute_result"
    }
   ],
   "source": [
    "metro_sfh.columns"
   ]
  },
  {
   "cell_type": "code",
   "execution_count": 186,
   "metadata": {},
   "outputs": [
    {
     "data": {
      "text/plain": [
       "Text(0.5, 0, 'Decade built')"
      ]
     },
     "execution_count": 186,
     "metadata": {},
     "output_type": "execute_result"
    },
    {
     "data": {
      "image/png": "[encoded data removed]",
      "text/plain": [
       "<Figure size 432x288 with 1 Axes>"
      ]
     },
     "metadata": {
      "needs_background": "light"
     },
     "output_type": "display_data"
    }
   ],
   "source": [
    "#plot 15 metropolitan areas average unit size by decade\n",
    "munitsize_yr = metro_sfh.groupby('YRBUILT').mean().reset_index()\n",
    "munitsize_yr.plot.bar(x='YRBUILT', y='UNITSIZE', color='black')\n",
    "plt.title('Metropoliatn single family average home sizes trend')\n",
    "plt.xlabel('Decade built')\n",
    "#plt.yticks({'1':'< 500', '2':'500-749', '3':'750-799', '4':'1000-1499', '5':'1500-1999')"
   ]
  },
  {
   "cell_type": "code",
   "execution_count": 187,
   "metadata": {},
   "outputs": [
    {
     "data": {
      "text/plain": [
       "Text(0, 0.5, 'Total rooms')"
      ]
     },
     "execution_count": 187,
     "metadata": {},
     "output_type": "execute_result"
    },
    {
     "data": {
      "image/png": "[encoded data removed]",
      "text/plain": [
       "<Figure size 432x288 with 1 Axes>"
      ]
     },
     "metadata": {
      "needs_background": "light"
     },
     "output_type": "display_data"
    }
   ],
   "source": [
    "#plot 15 metropolitan areas average unit size by decade\n",
    "mtotrms_yr = metro_sfh.groupby('YRBUILT').mean().reset_index()\n",
    "mtotrms_yr.plot.bar(x='YRBUILT', y='TOTROOMS', color='black')\n",
    "plt.title('Metropoliatn single family average home total rooms trend')\n",
    "plt.xlabel('Decade built')\n",
    "plt.ylabel('Total rooms')"
   ]
  },
  {
   "cell_type": "code",
   "execution_count": 182,
   "metadata": {},
   "outputs": [
    {
     "data": {
      "text/plain": [
       "Text(0.5, 1.0, 'Average stories in houses in large metropolitan areas')"
      ]
     },
     "execution_count": 182,
     "metadata": {},
     "output_type": "execute_result"
    },
    {
     "data": {
      "image/png": "[encoded data removed]",
      "text/plain": [
       "<Figure size 432x288 with 1 Axes>"
      ]
     },
     "metadata": {
      "needs_background": "light"
     },
     "output_type": "display_data"
    }
   ],
   "source": [
    "#Plot metro mean of stories of houses by decade\n",
    "flr_dec_m= metro_sfh.groupby('YRBUILT')['UNITFLOORS'].mean().reset_index()\n",
    "flr_dec_m.plot.bar(x='YRBUILT', y='UNITFLOORS', color='b')\n",
    "plt.xlabel('Decade')\n",
    "plt.ylabel('Floor levels')\n",
    "plt.yticks(np.arange(1, 4, 1.0))\n",
    "plt.title('Average stories in houses in large metropolitan areas')"
   ]
  },
  {
   "cell_type": "code",
   "execution_count": 190,
   "metadata": {},
   "outputs": [
    {
     "data": {
      "text/plain": [
       "Text(0.5, 1.0, 'Average separate dining areas in houses in large metropolitan areas')"
      ]
     },
     "execution_count": 190,
     "metadata": {},
     "output_type": "execute_result"
    },
    {
     "data": {
      "image/png": "[encoded data removed]",
      "text/plain": [
       "<Figure size 432x288 with 1 Axes>"
      ]
     },
     "metadata": {
      "needs_background": "light"
     },
     "output_type": "display_data"
    }
   ],
   "source": [
    "#Plot metro mean of separate dining areas in houses by decade\n",
    "dr_dec_m= metro_sfh.groupby('YRBUILT')['DINING'].mean().reset_index()\n",
    "dr_dec_m.plot.bar(x='YRBUILT', y='DINING', color='b')\n",
    "plt.xlabel('Decade')\n",
    "plt.ylabel('Average umnber of separate dining areas')\n",
    "plt.yticks(np.arange(1, 3, 1.0))\n",
    "plt.title('Average separate dining areas in houses in large metropolitan areas')"
   ]
  }
 ],
 "metadata": {
  "kernelspec": {
   "display_name": "Python 3",
   "language": "python",
   "name": "python3"
  },
  "language_info": {
   "codemirror_mode": {
    "name": "ipython",
    "version": 3
   },
   "file_extension": ".py",
   "mimetype": "text/x-python",
   "name": "python",
   "nbconvert_exporter": "python",
   "pygments_lexer": "ipython3",
   "version": "3.7.1"
  }
 },
 "nbformat": 4,
 "nbformat_minor": 2
}
